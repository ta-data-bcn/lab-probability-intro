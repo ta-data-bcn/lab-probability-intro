{
 "cells": [
  {
   "cell_type": "markdown",
   "metadata": {},
   "source": [
    "# Introduction To Probability\n",
    "## Challenge 1\n",
    "\n",
    "A and B are events of a probability space with $(\\omega, \\sigma, P)$ such that $P(A) = 0.3$, $P(B) = 0.6$ and $P(A \\cap B) = 0.1$\n",
    "\n",
    "Which of the following statements are false?\n",
    "1. $P(A \\cup B) = 0.6$\n",
    "2. $P(A \\cap B^{C}) = 0.2$\n",
    "3. $P(A \\cap (B \\cup B^{C})) = 0.4$\n",
    "4. $P(A^{C} \\cap B^{C}) = 0.3$\n",
    "5. $P((A \\cap B)^{C}) = 0.9$"
   ]
  },
  {
   "cell_type": "code",
   "execution_count": 49,
   "metadata": {},
   "outputs": [],
   "source": [
    "import pandas as pd"
   ]
  },
  {
   "cell_type": "code",
   "execution_count": 1,
   "metadata": {},
   "outputs": [
    {
     "name": "stdout",
     "output_type": "stream",
     "text": [
      "1.False\n",
      "2.False\n",
      "3.False\n",
      "4.False\n",
      "5.True\n"
     ]
    }
   ],
   "source": [
    "PA=0.3\n",
    "PB=0.6\n",
    "# Your solution here\n",
    "#1. \n",
    "print(\"1.\" + str(PA+PB-.1==.6))\n",
    "#2\n",
    "print(\"2.\" + str(.3*.4==.2))\n",
    "#3\n",
    "print(\"3.\" + str(.7*(.6+.4)==.4))\n",
    "#4\n",
    "print(\"4.\" + str(.7*.4==.3))\n",
    "#5\n",
    "print(\"5.\" + str(1-(.1)==.9))\n"
   ]
  },
  {
   "cell_type": "markdown",
   "metadata": {},
   "source": [
    "## Challenge 2\n",
    "There is a box with 10 white balls, 12 red balls and 8 black balls. Calculate the probability of:\n",
    "1. Taking a white ball out.\n",
    "2. Taking a white ball out after taking a black ball out.\n",
    "3. Taking a red ball out after taking a black and a red ball out.\n",
    "4. Taking a red ball out after taking a black and a red ball out with reposition.\n",
    "\n",
    "**Hint**: Reposition means putting back the ball into the box after taking it out."
   ]
  },
  {
   "cell_type": "code",
   "execution_count": 43,
   "metadata": {},
   "outputs": [
    {
     "name": "stdout",
     "output_type": "stream",
     "text": [
      "1. 0.3333333333333333\n",
      "2. 0.09195402298850575\n",
      "3. 0.0394088669950739\n",
      "5. 0.035555555555555556\n"
     ]
    }
   ],
   "source": [
    "\"\"\"\n",
    "your solution here\n",
    "\"\"\"\n",
    "total=10+12+8\n",
    "print(\"1. \" + str(10/total))\n",
    "print(\"2. \" + str((8/total)*10/(total-1)))\n",
    "print(\"3. \" + str((12/total)*(8/(total-1)*10/(total-2))))\n",
    "print(\"4. \" + str((10/total)*(12/total)*(8/total)))"
   ]
  },
  {
   "cell_type": "markdown",
   "metadata": {},
   "source": [
    "## Challenge 3\n",
    "\n",
    "You are planning to go on a picnic today but the morning is cloudy. You hate rain so you don't know whether to go out or stay home! To help you make a decision, you gather the following data about rainy days:\n",
    "\n",
    "* 50% of all rainy days start off cloudy!\n",
    "* Cloudy mornings are common. About 40% of days start cloudy. \n",
    "* This month is usually dry so only 3 of 30 days (10%) tend to be rainy. \n",
    "\n",
    "What is the chance of rain during the day?"
   ]
  },
  {
   "cell_type": "code",
   "execution_count": 48,
   "metadata": {},
   "outputs": [
    {
     "name": "stdout",
     "output_type": "stream",
     "text": [
      "The probability that it will rain on a cloudy day is 0.125. 2.5% greater than on a random day.\n"
     ]
    }
   ],
   "source": [
    "\"\"\"\n",
    "#your solution here\n",
    "\"\"\"\n",
    "#Multiply the chance of rain X the number of rainy days that are cloudy to find the percentage of cloudy days that are rainy.\n",
    "#then divide by the total of cloudy days.\n",
    "\n",
    "print(\"The probability that it will rain on a cloudy day is \"+str((0.1*0.5/0.4)) + \". 2.5% greater than on a random day.\")\n",
    "\n",
    "\n"
   ]
  },
  {
   "cell_type": "markdown",
   "metadata": {},
   "source": [
    "## Challenge 4\n",
    "\n",
    "One thousand people were asked through a telephone survey whether they thought more street lighting is needed at night or not.\n",
    "\n",
    "Out of the 480 men that answered the survey, 324 said yes and 156 said no. On the other hand, out of the 520 women that answered, 351 said yes and 169 said no. \n",
    "\n",
    "We wonder if men and women have a different opinions about the street lighting matter. Is gender relevant or irrelevant to the question?\n",
    "\n",
    "Consider the following events:\n",
    "- The answer is yes, so the person that answered thinks that more street lighting is needed.\n",
    "- The person who answered is a man.\n",
    "\n",
    "We want to know if these events are independent, that is, if the fact of wanting more light depends on whether one is male or female. Are these events independent or not?\n",
    "\n",
    "**Hint**: To clearly compare the answers by gender, it is best to place the data in a table."
   ]
  },
  {
   "cell_type": "code",
   "execution_count": 79,
   "metadata": {},
   "outputs": [
    {
     "name": "stdout",
     "output_type": "stream",
     "text": [
      "Men and women are equally likely to give each answer. Gender has no effect on their opinion.\n"
     ]
    },
    {
     "data": {
      "text/html": [
       "<div>\n",
       "<style scoped>\n",
       "    .dataframe tbody tr th:only-of-type {\n",
       "        vertical-align: middle;\n",
       "    }\n",
       "\n",
       "    .dataframe tbody tr th {\n",
       "        vertical-align: top;\n",
       "    }\n",
       "\n",
       "    .dataframe thead th {\n",
       "        text-align: right;\n",
       "    }\n",
       "</style>\n",
       "<table border=\"1\" class=\"dataframe\">\n",
       "  <thead>\n",
       "    <tr style=\"text-align: right;\">\n",
       "      <th></th>\n",
       "      <th>Gender</th>\n",
       "      <th>No</th>\n",
       "      <th>Yes</th>\n",
       "      <th>Total</th>\n",
       "      <th>P(No)</th>\n",
       "      <th>P(Yes)</th>\n",
       "    </tr>\n",
       "  </thead>\n",
       "  <tbody>\n",
       "    <tr>\n",
       "      <th>0</th>\n",
       "      <td>Men</td>\n",
       "      <td>156</td>\n",
       "      <td>324</td>\n",
       "      <td>480</td>\n",
       "      <td>0.325</td>\n",
       "      <td>0.675</td>\n",
       "    </tr>\n",
       "    <tr>\n",
       "      <th>1</th>\n",
       "      <td>Women</td>\n",
       "      <td>169</td>\n",
       "      <td>351</td>\n",
       "      <td>520</td>\n",
       "      <td>0.325</td>\n",
       "      <td>0.675</td>\n",
       "    </tr>\n",
       "    <tr>\n",
       "      <th>2</th>\n",
       "      <td>Total</td>\n",
       "      <td>325</td>\n",
       "      <td>675</td>\n",
       "      <td>1000</td>\n",
       "      <td>0.325</td>\n",
       "      <td>0.675</td>\n",
       "    </tr>\n",
       "  </tbody>\n",
       "</table>\n",
       "</div>"
      ],
      "text/plain": [
       "  Gender   No  Yes  Total  P(No)  P(Yes)\n",
       "0    Men  156  324    480  0.325   0.675\n",
       "1  Women  169  351    520  0.325   0.675\n",
       "2  Total  325  675   1000  0.325   0.675"
      ]
     },
     "execution_count": 79,
     "metadata": {},
     "output_type": "execute_result"
    }
   ],
   "source": [
    "# your code here\n",
    "df=pd.DataFrame({\"Gender\":[\"Men\",\"Women\",\"Total\"],\"No\": [156,169,156+169],\"Yes\":[324,351,324+351]})\n",
    "df[\"Total\"]=df[\"No\"]+df[\"Yes\"]\n",
    "df[\"P(No)\"]=df[\"No\"]/df[\"Total\"]\n",
    "df[\"P(Yes)\"]=df[\"Yes\"]/df[\"Total\"]\n",
    "print(\"Men and women are equally likely to give each answer. Gender has no effect on their opinion.\")\n",
    "df"
   ]
  }
 ],
 "metadata": {
  "kernelspec": {
   "display_name": "Python 3",
   "language": "python",
   "name": "python3"
  },
  "language_info": {
   "codemirror_mode": {
    "name": "ipython",
    "version": 3
   },
   "file_extension": ".py",
   "mimetype": "text/x-python",
   "name": "python",
   "nbconvert_exporter": "python",
   "pygments_lexer": "ipython3",
   "version": "3.8.3"
  }
 },
 "nbformat": 4,
 "nbformat_minor": 2
}
