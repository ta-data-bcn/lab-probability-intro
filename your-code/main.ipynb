{
 "cells": [
  {
   "cell_type": "code",
   "execution_count": 2,
   "metadata": {},
   "outputs": [],
   "source": [
    "import pandas as pd\n",
    "import numpy as np"
   ]
  },
  {
   "cell_type": "markdown",
   "metadata": {},
   "source": [
    "# Introduction To Probability\n",
    "## Challenge 1\n",
    "\n",
    "A and B are events of a probability space with $(\\omega, \\sigma, P)$ such that $P(A) = 0.3$, $P(B) = 0.6$ and $P(A \\cap B) = 0.1$\n",
    "\n",
    "Which of the following statements are false?\n",
    "* $P(A \\cup B) = 0.6$\n",
    "* $P(A \\cap B^{C}) = 0.2$\n",
    "* $P(A \\cap (B \\cup B^{C})) = 0.4$\n",
    "* $P(A^{C} \\cap B^{C}) = 0.3$\n",
    "* $P((A \\cap B)^{C}) = 0.9$"
   ]
  },
  {
   "cell_type": "code",
   "execution_count": 11,
   "metadata": {},
   "outputs": [
    {
     "name": "stdout",
     "output_type": "stream",
     "text": [
      "0.24\n",
      "0.76\n"
     ]
    }
   ],
   "source": [
    "\"\"\"\n",
    "For A, B independent:\n",
    "P(A∩B)= P(A)*P(B)\n",
    "P(AuB)=P(A)+P(B)-P(A∩B)\n",
    "\"\"\"\n",
    "\n",
    "PA = 0.3\n",
    "PAc = (1-PA)\n",
    "PB = 0.6\n",
    "PBc = (1-PB)\n",
    "\n",
    "PAnB = 0.1\n",
    "PBnBc= PB*PBc\n",
    "PBuBc=PB+PBc-PBnBc\n",
    "\n",
    "print(PBnBc)\n",
    "print (PBuBc)"
   ]
  },
  {
   "cell_type": "code",
   "execution_count": 18,
   "metadata": {},
   "outputs": [
    {
     "name": "stdout",
     "output_type": "stream",
     "text": [
      "PAuB: 0.7999999999999999\n",
      "PAnBc:  0.12\n",
      "PAnPBuBc:  0.22799999999999998\n",
      "PAcnBc:  0.27999999999999997\n",
      "PAnB_c:  0.9\n"
     ]
    }
   ],
   "source": [
    "PAuB=PA+PB-PAnB\n",
    "PAnBc=PA*PBc\n",
    "PAnPBuBc=PA*PBuBc\n",
    "PAcnBc=PAc*PBc\n",
    "PAnB_c=1-PAnB\n",
    "\n",
    "print('PAuB:', PAuB)\n",
    "print('PAnBc: ', PAnBc)\n",
    "print('PAnPBuBc: ', PAnPBuBc)\n",
    "print('PAcnBc: ', PAcnBc)\n",
    "print('PAnB_c: ', PAnB_c)\n",
    "\n",
    "# Only the last statement is true. All the others are false."
   ]
  },
  {
   "cell_type": "markdown",
   "metadata": {},
   "source": [
    "## Challenge 2\n",
    "There is a box with 10 white balls, 12 red balls and 8 black balls. Calculate the probability of:\n",
    "* Taking a white ball out.\n",
    "* Taking a white ball out after taking a black ball out.\n",
    "* Taking a red ball out after taking a black and a red ball out.\n",
    "* Taking a red ball out after taking a black and a red ball out with reposition.\n",
    "\n",
    "**Hint**: Reposition means putting back the ball into the box after taking it out."
   ]
  },
  {
   "cell_type": "code",
   "execution_count": 17,
   "metadata": {},
   "outputs": [
    {
     "name": "stdout",
     "output_type": "stream",
     "text": [
      "P_white:  0.3333333333333333\n",
      "P_white_after_black:  0.3448275862068966\n",
      "P_red_after_black_and_red:  0.39285714285714285\n",
      "P_red_after_black_and_red_wrep:  0.4\n"
     ]
    }
   ],
   "source": [
    "\"\"\"\n",
    "probability of an event = #outcomes in the event/total# of possible outcomes in universe\n",
    "\"\"\"\n",
    "white = 10\n",
    "red = 12\n",
    "black = 8\n",
    "n = white+red+black # n=30\n",
    "\n",
    "# Probability of taking white out\n",
    "P_white = white/n\n",
    "print('P_white: ', P_white)\n",
    "\n",
    "\n",
    "# Probability of picking white after black; conditional probability \n",
    "# Relevant outcomes: 10 white balls\n",
    "# Possible outcomes in universe: 30 total balls - 1 black ball = 29\n",
    "\n",
    "P_white_after_black = white/(n-1)\n",
    "print('P_white_after_black: ', P_white_after_black)\n",
    "\n",
    "\n",
    "# Probability of red after taking a black and a red out\n",
    "# Relevant outcomes: 12 reds - 1 red already taken in prior round = 11\n",
    "# Possible outcomes in universe: 30 total balls - 1 black - 1 red = 28\n",
    "\n",
    "P_red_after_black_and_red = (red - 1)/(n-2)\n",
    "print('P_red_after_black_and_red: ', P_red_after_black_and_red)\n",
    "\n",
    "#Probability of taking red after black and red *with reposition*\n",
    "# Relevant outcomes: 12 reds\n",
    "# Possible outcomes in universe: 30\n",
    "# In this case, the outcome is independent of what happened before, so it will be equal to P(red)\n",
    "P_red_after_black_and_red_wrep = red/n\n",
    "print('P_red_after_black_and_red_wrep: ', P_red_after_black_and_red_wrep)"
   ]
  },
  {
   "cell_type": "markdown",
   "metadata": {},
   "source": [
    "## Challenge 3\n",
    "\n",
    "You are planning to go on a picnic today but the morning is cloudy. You hate rain so you don't know whether to go out or stay home! To help you make a decision, you gather the following data about rainy days:\n",
    "\n",
    "* 50% of all rainy days start off cloudy!\n",
    "* Cloudy mornings are common. About 40% of days start cloudy. \n",
    "* This month is usually dry so only 3 of 30 days (10%) tend to be rainy. \n",
    "\n",
    "What is the chance of rain during the day?"
   ]
  },
  {
   "cell_type": "code",
   "execution_count": 23,
   "metadata": {},
   "outputs": [
    {
     "name": "stdout",
     "output_type": "stream",
     "text": [
      "Chance of rain during the day:  12.5 %\n"
     ]
    }
   ],
   "source": [
    "\"\"\"\n",
    "Bayes theorem:\n",
    "P(A|B) = P(AnB)/P(B) = [P(B|A)*P(A)]/P(B)\n",
    "\"\"\"\n",
    "\n",
    "P_cloud_given_rain = 0.5\n",
    "P_cloud = 0.4\n",
    "P_rain = 0.1\n",
    "\n",
    "# P(rain_given_cloud) = [P(cloud_given_rain)*P(rain)]/P(cloud)\n",
    "P_rain_given_cloud =  P_cloud_given_rain*P_rain/P_cloud\n",
    "print('Chance of rain during the day: ', P_rain_given_cloud*100, '%')"
   ]
  },
  {
   "cell_type": "markdown",
   "metadata": {},
   "source": [
    "## Challenge 4\n",
    "\n",
    "One thousand people were asked through a telephone survey whether they thought more street lighting is needed at night or not.\n",
    "\n",
    "Out of the 480 men that answered the survey, 324 said yes and 156 said no. On the other hand, out of the 520 women that answered, 351 said yes and 169 said no. \n",
    "\n",
    "We wonder if men and women have a different opinions about the street lighting matter. Is gender relevant or irrelevant to the question?\n",
    "\n",
    "Consider the following events:\n",
    "- The answer is yes, so the person that answered thinks that more street lighting is needed.\n",
    "- The person who answered is a man.\n",
    "\n",
    "We want to know if these events are independent, that is, if the fact of wanting more light depends on whether one is male or female. Are these events independent or not?\n",
    "\n",
    "**Hint**: To clearly compare the answers by gender, it is best to place the data in a table."
   ]
  },
  {
   "cell_type": "code",
   "execution_count": 26,
   "metadata": {},
   "outputs": [
    {
     "name": "stdout",
     "output_type": "stream",
     "text": [
      "P_YgivenM: 0.675\n",
      "P_YgivenW: 0.675\n",
      "P_NgivenM: 0.325\n",
      "P_NgivenW: 0.325\n"
     ]
    }
   ],
   "source": [
    "#data\n",
    "sample = 1000\n",
    "\n",
    "men = 480\n",
    "men_yes = 324\n",
    "men_no = 156\n",
    "\n",
    "women = 520\n",
    "women_yes = 351\n",
    "women_no = 169\n",
    "\n",
    "yes= men_yes+women_yes\n",
    "no=men_no+women_no\n",
    "\n",
    "#total probabilities\n",
    "P_men=men/sample\n",
    "P_women=women/sample\n",
    "P_yes=yes/sample\n",
    "P_no=no/sample\n",
    "\n",
    "#joint probabilities (PAnB=P(A)*P(B))\n",
    "P_YnM=P_yes*P_men\n",
    "P_YnW=P_yes*P_women\n",
    "P_NnM=P_no*P_men\n",
    "P_NnW=P_no*P_women\n",
    "\n",
    "#conditional probabilities (P(A|B)=P(AnB)/P(B))\n",
    "P_YgivenM=P_YnM/P_men\n",
    "P_YgivenW=P_YnW/P_women\n",
    "P_NgivenM=P_NnM/P_men\n",
    "P_NgivenW=P_NnW/P_women\n",
    "\n",
    "print('P_YgivenM:', P_YgivenM)\n",
    "print('P_YgivenW:', P_YgivenW)\n",
    "print('P_NgivenM:', P_NgivenM)\n",
    "print('P_NgivenW:', P_NgivenW)"
   ]
  },
  {
   "cell_type": "code",
   "execution_count": 29,
   "metadata": {},
   "outputs": [
    {
     "name": "stdout",
     "output_type": "stream",
     "text": [
      "events are independent\n"
     ]
    }
   ],
   "source": [
    "\"\"\"\n",
    "Two events are independent when P(A|B) = P(A)\n",
    "\n",
    "\"\"\"\n",
    "if P_YgivenM == P_yes and P_NgivenM == P_no:\n",
    "    print ('events are independent')\n",
    "else:\n",
    "    print ('events are conditional')\n"
   ]
  },
  {
   "cell_type": "code",
   "execution_count": null,
   "metadata": {},
   "outputs": [],
   "source": []
  }
 ],
 "metadata": {
  "kernelspec": {
   "display_name": "Python 3",
   "language": "python",
   "name": "python3"
  },
  "language_info": {
   "codemirror_mode": {
    "name": "ipython",
    "version": 3
   },
   "file_extension": ".py",
   "mimetype": "text/x-python",
   "name": "python",
   "nbconvert_exporter": "python",
   "pygments_lexer": "ipython3",
   "version": "3.8.3"
  }
 },
 "nbformat": 4,
 "nbformat_minor": 2
}
