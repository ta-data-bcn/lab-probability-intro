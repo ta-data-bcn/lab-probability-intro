{
 "cells": [
  {
   "cell_type": "markdown",
   "metadata": {},
   "source": [
    "# Introduction To Probability\n",
    "## Challenge 1\n",
    "\n",
    "A and B are events of a probability space with $(\\omega, \\sigma, P)$ such that $P(A) = 0.3$, $P(B) = 0.6$ and $P(A \\cap B) = 0.1$\n",
    "\n",
    "Which of the following statements are false?\n",
    "* $P(A \\cup B) = 0.6$\n",
    "* $P(A \\cap B^{C}) = 0.2$\n",
    "* $P(A \\cap (B \\cup B^{C})) = 0.4$\n",
    "* $P(A^{C} \\cap B^{C}) = 0.3$\n",
    "* $P((A \\cap B)^{C}) = 0.9$"
   ]
  },
  {
   "cell_type": "markdown",
   "metadata": {},
   "source": [
    "* $P(A \\cup B) = 0.6$ is False because $P(A \\cup B) = (0.3+0.6-0.1) = 0.8$\n",
    "* $P(A \\cap B^{C}) = 0.2$ is True because $P(A) = 0.3$ and $P(A)=P(A \\cap B)+P(A \\cap B^{C})$ and since $P(A \\cap B)= 0.1$\n",
    "* $P(A \\cap (B \\cup B^{C})) = 0.4$ is False because the union between all B and all that is not B is 1 and the intersection of A with totality is the same as the event of A happening which is 0.3.\n",
    "* $P(A^{C} \\cap B^{C}) = 0.3$ is False because  $P(A^{C} \\cap B)=0.5$ since $P(A \\cap B)=0.1$ and $P(B) =0.6$, then since   $P(A^{C})= 0.7$ this minus $P(A^{C} \\cap B)=0.5$ we get  $P(A^{C} \\cap B^{C}) = 0.2$\n",
    "* $P((A \\cap B)^{C}) = 0.9$ this is true"
   ]
  },
  {
   "cell_type": "markdown",
   "metadata": {},
   "source": [
    "## Challenge 2\n",
    "There is a box with 10 white balls, 12 red balls and 8 black balls. Calculate the probability of:\n",
    "* Taking a white ball out.\n",
    "* Taking a white ball out after taking a black ball out.\n",
    "* Taking a red ball out after taking a black and a red ball out.\n",
    "* Taking a red ball out after taking a black and a red ball out with reposition.\n",
    "\n",
    "**Hint**: Reposition means putting back the ball into the box after taking it out."
   ]
  },
  {
   "cell_type": "markdown",
   "metadata": {},
   "source": [
    "* $ P(white ball)=10/30=0.33$\n",
    "* $ P(white ball \\cap black ball)=8/30*10/29=0.1103 ---> 11% $\n",
    "* $ P(red ball\\cap black ball \\cap red ball)=12/30*8/29*11/28= 0.043--->4.3% $\n",
    "* $ P(red ball\\cap black ball \\cap red ball)=12/30*12/30*8/30=0.0426--->4.26% $\n",
    "\n"
   ]
  },
  {
   "cell_type": "markdown",
   "metadata": {},
   "source": [
    "## Challenge 3\n",
    "\n",
    "You are planning to go on a picnic today but the morning is cloudy. You hate rain so you don't know whether to go out or stay home! To help you make a decision, you gather the following data about rainy days:\n",
    "\n",
    "* 50% of all rainy days start off cloudy!\n",
    "* Cloudy mornings are common. About 40% of days start cloudy. \n",
    "* This month is usually dry so only 3 of 30 days (10%) tend to be rainy. \n",
    "\n",
    "What is the chance of rain during the day?"
   ]
  },
  {
   "cell_type": "markdown",
   "metadata": {},
   "source": [
    "* $ P(rain|cloudy)=P(rain \\cap cloudy)/(P(cloudy)=0.4) $\n",
    "so we need $ P(rain \\cap cloudy) which = (P(cloudy|rain)=0.5)*(P(rain)=0.3) $\n",
    "$ P(rain \\cap cloudy)= 0.15 $\n",
    "* $P(rain|cloudy)= 0.15 /0.4 = 0.375---> 37.5 % $\n"
   ]
  },
  {
   "cell_type": "markdown",
   "metadata": {},
   "source": [
    "## Challenge 4\n",
    "\n",
    "One thousand people were asked through a telephone survey whether they thought more street lighting is needed at night or not.\n",
    "\n",
    "Out of the 480 men that answered the survey, 324 said yes and 156 said no. On the other hand, out of the 520 women that answered, 351 said yes and 169 said no. \n",
    "\n",
    "We wonder if men and women have a different opinions about the street lighting matter. Is gender relevant or irrelevant to the question?\n",
    "\n",
    "Consider the following events:\n",
    "- The answer is yes, so the person that answered thinks that more street lighting is needed.\n",
    "- The person who answered is a man.\n",
    "\n",
    "We want to know if these events are independent, that is, if the fact of wanting more light depends on whether one is male or female. Are these events independent or not?\n",
    "\n",
    "**Hint**: To clearly compare the answers by gender, it is best to place the data in a table."
   ]
  },
  {
   "cell_type": "code",
   "execution_count": 7,
   "metadata": {},
   "outputs": [
    {
     "name": "stdout",
     "output_type": "stream",
     "text": [
      "675\n",
      "67.5\n",
      "0.324\n",
      "67.5\n",
      "They are independent\n"
     ]
    }
   ],
   "source": [
    "#compute total yes\n",
    "yes= 324+351\n",
    "print(yes)\n",
    "\n",
    "#probability of yes\n",
    "p_yes = (yes/1000)*100\n",
    "print(p_yes)\n",
    "\n",
    "#probability of intersection men and yes\n",
    "p_yes_int_men=324/1000\n",
    "print(p_yes_int_men)\n",
    "\n",
    "#probability men\n",
    "p_men=480/1000\n",
    "\n",
    "#probilty of yes conditional to men\n",
    "p_yes_cond_men=(p_yes_int_men/p_men)*100\n",
    "print(p_yes_cond_men)\n",
    "\n",
    "#if \n",
    "if p_yes_cond_men == p_yes:\n",
    "    print('They are independent')"
   ]
  },
  {
   "cell_type": "markdown",
   "metadata": {},
   "source": [
    "We  computed the probability for yes and the probability for yes conditional on being a man, in the case these two events were independent , these probabilities should be the same, and since they are we can confirm wanting more lighting is not dependent on gender."
   ]
  },
  {
   "cell_type": "code",
   "execution_count": null,
   "metadata": {},
   "outputs": [],
   "source": []
  }
 ],
 "metadata": {
  "kernelspec": {
   "display_name": "Python 3",
   "language": "python",
   "name": "python3"
  },
  "language_info": {
   "codemirror_mode": {
    "name": "ipython",
    "version": 3
   },
   "file_extension": ".py",
   "mimetype": "text/x-python",
   "name": "python",
   "nbconvert_exporter": "python",
   "pygments_lexer": "ipython3",
   "version": "3.7.6"
  }
 },
 "nbformat": 4,
 "nbformat_minor": 2
}
