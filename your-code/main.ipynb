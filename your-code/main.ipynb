{
 "cells": [
  {
   "cell_type": "markdown",
   "metadata": {},
   "source": [
    "# Introduction To Probability\n",
    "## Challenge 1\n",
    "\n",
    "A and B are events of a probability space with $(\\omega, \\sigma, P)$ such that $P(A) = 0.3$, $P(B) = 0.6$ and $P(A \\cap B) = 0.1$\n",
    "\n",
    "Which of the following statements are false?\n",
    "* $P(A \\cup B) = 0.6$\n",
    "* $P(A \\cap B^{C}) = 0.2$\n",
    "* $P(A \\cap (B \\cup B^{C})) = 0.4$\n",
    "* $P(A^{C} \\cap B^{C}) = 0.3$\n",
    "* $P((A \\cap B)^{C}) = 0.9$"
   ]
  },
  {
   "cell_type": "code",
   "execution_count": null,
   "metadata": {},
   "outputs": [],
   "source": [
    "\"\"\"\n",
    "𝑃(𝐴∪𝐵)=0.6 is False\n",
    "P(𝐴∩𝐵) = P(A) * P(B)\n",
    "P(𝐴∪𝐵) = P(A) + P(B) - P(A∩B)\n",
    "\n",
    "𝑃(𝐴∩𝐵c) = 0.2 is False\n",
    "P(A) = 0.3\n",
    "P(Ac) = (1-P(A))\n",
    "P(B) = 0.6\n",
    "P(Bc) = (1-P(B))\n",
    "P(AnB) = 0.1\n",
    "\n",
    "\n",
    "\"\"\""
   ]
  },
  {
   "cell_type": "markdown",
   "metadata": {},
   "source": [
    "## Challenge 2\n",
    "There is a box with 10 white balls, 12 red balls and 8 black balls. Calculate the probability of:\n",
    "* Taking a white ball out.\n",
    "* Taking a white ball out after taking a black ball out.\n",
    "* Taking a red ball out after taking a black and a red ball out.\n",
    "* Taking a red ball out after taking a black and a red ball out with reposition.\n",
    "\n",
    "**Hint**: Reposition means putting back the ball into the box after taking it out."
   ]
  },
  {
   "cell_type": "code",
   "execution_count": 6,
   "metadata": {},
   "outputs": [
    {
     "name": "stdout",
     "output_type": "stream",
     "text": [
      "30\n",
      "0.3333333333333333\n",
      "0.3448275862068966\n",
      "0.39285714285714285\n",
      "0.4\n"
     ]
    }
   ],
   "source": [
    "white = 10\n",
    "red = 12\n",
    "black = 8\n",
    "n = white + red + black\n",
    "print(n)\n",
    "\n",
    "#Taking a white ball out:\n",
    "P_white = white / n\n",
    "print(P_white)\n",
    "\n",
    "#Taking a white ball out after taking a black ball out:\n",
    "P_white2 = white / (n-1)\n",
    "print(P_white2)\n",
    "\n",
    "#Taking a red ball out after taking a black and a red ball out:\n",
    "P_red = (red-1) / (n-2)\n",
    "print(P_red)\n",
    "\n",
    "#Taking a red ball out after taking a black and a red ball out with reposition:\n",
    "P_red2 = red / n\n",
    "print(P_red2)"
   ]
  },
  {
   "cell_type": "markdown",
   "metadata": {},
   "source": [
    "## Challenge 3\n",
    "\n",
    "You are planning to go on a picnic today but the morning is cloudy. You hate rain so you don't know whether to go out or stay home! To help you make a decision, you gather the following data about rainy days:\n",
    "\n",
    "* 50% of all rainy days start off cloudy!\n",
    "* Cloudy mornings are common. About 40% of days start cloudy. \n",
    "* This month is usually dry so only 3 of 30 days (10%) tend to be rainy. \n",
    "\n",
    "What is the chance of rain during the day?"
   ]
  },
  {
   "cell_type": "code",
   "execution_count": 12,
   "metadata": {},
   "outputs": [
    {
     "name": "stdout",
     "output_type": "stream",
     "text": [
      "0.125\n"
     ]
    }
   ],
   "source": [
    "#50% of all rainy days start off cloudy!\n",
    "P_rainy_given_cloudy = 0.5 #P(A|B) = P_rain_given_cloudy\n",
    "\n",
    "#Cloudy mornings are common. About 40% of days start cloudy.\n",
    "P_cloudy = 0.4 #P(B) = P_cloudy\n",
    "\n",
    "#This month is usually dry so only 3 of 30 days (10%) tend to be rainy. \n",
    "P_rainy = 0.1 #P(A) = P_rainy\n",
    "\n",
    "#What is the chance of rain during the day?\n",
    "P_rain = (P_rainy_given_cloudy * P_rainy / P_cloudy)\n",
    "print(P_rain)"
   ]
  },
  {
   "cell_type": "markdown",
   "metadata": {},
   "source": [
    "## Challenge 4\n",
    "\n",
    "One thousand people were asked through a telephone survey whether they thought more street lighting is needed at night or not.\n",
    "\n",
    "Out of the 480 men that answered the survey, 324 said yes and 156 said no. On the other hand, out of the 520 women that answered, 351 said yes and 169 said no. \n",
    "\n",
    "We wonder if men and women have a different opinions about the street lighting matter. Is gender relevant or irrelevant to the question?\n",
    "\n",
    "Consider the following events:\n",
    "- The answer is yes, so the person that answered thinks that more street lighting is needed.\n",
    "- The person who answered is a man.\n",
    "\n",
    "We want to know if these events are independent, that is, if the fact of wanting more light depends on whether one is male or female. Are these events independent or not?\n",
    "\n",
    "**Hint**: To clearly compare the answers by gender, it is best to place the data in a table."
   ]
  },
  {
   "cell_type": "code",
   "execution_count": 28,
   "metadata": {},
   "outputs": [
    {
     "name": "stdout",
     "output_type": "stream",
     "text": [
      "1000\n",
      "0.675\n",
      "0.325\n",
      "0.48\n",
      "0.52\n",
      "0.324\n",
      "0.156\n",
      "0.351\n",
      "0.169\n",
      "0.675\n",
      "0.6749999999999999\n"
     ]
    }
   ],
   "source": [
    "men = 480\n",
    "men_yes = 324\n",
    "men_no = 156\n",
    "women = 520\n",
    "women_yes = 351\n",
    "women_no = 169\n",
    "n = men + women\n",
    "print(n)\n",
    "\n",
    "#Probability of 'yes':\n",
    "P_yes = (men_yes + women_yes) / n\n",
    "print(P_yes)\n",
    "\n",
    "#Probability of 'no':\n",
    "P_no = (men_no + women_no) /n\n",
    "print(P_no)\n",
    "\n",
    "#Probability of men:\n",
    "P_men = men / n\n",
    "print(P_men)\n",
    "\n",
    "#Probability of women:\n",
    "P_women = women / n\n",
    "print(P_women)\n",
    "\n",
    "#Probability of 'yes' and men:\n",
    "P_yes_men = men_yes / n\n",
    "print(P_yes_men)\n",
    "\n",
    "#Probability of 'no' and men:\n",
    "P_no_men = men_no / n\n",
    "print(P_no_men)\n",
    "\n",
    "#Probability of 'yes' and women:\n",
    "P_yes_women = women_yes / n\n",
    "print(P_yes_women)\n",
    "\n",
    "#Probability of 'no' and women:\n",
    "P_no_women = women_no / n\n",
    "print(P_no_women)\n",
    "\n",
    "#Probability of 'yes' given men:\n",
    "P_ym = P_yes_men / P_men\n",
    "print(P_ym)\n",
    "\n",
    "#Probability of 'yes' given women:\n",
    "P_yw = P_yes_women / P_women\n",
    "print(P_yw)"
   ]
  },
  {
   "cell_type": "code",
   "execution_count": null,
   "metadata": {},
   "outputs": [],
   "source": [
    "\"\"\"\n",
    "Gender is irrelevant to the question.\n",
    "The probability of 'yes' is the sames as the probability of answering 'yes' given men.\n",
    "\n",
    "\"\"\""
   ]
  }
 ],
 "metadata": {
  "kernelspec": {
   "display_name": "Python 3",
   "language": "python",
   "name": "python3"
  },
  "language_info": {
   "codemirror_mode": {
    "name": "ipython",
    "version": 3
   },
   "file_extension": ".py",
   "mimetype": "text/x-python",
   "name": "python",
   "nbconvert_exporter": "python",
   "pygments_lexer": "ipython3",
   "version": "3.8.3"
  }
 },
 "nbformat": 4,
 "nbformat_minor": 2
}
