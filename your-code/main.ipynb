{
 "cells": [
  {
   "cell_type": "markdown",
   "metadata": {},
   "source": [
    "# Introduction To Probability\n",
    "## Challenge 1\n",
    "\n",
    "A and B are events of a probability space with $(\\omega, \\sigma, P)$ such that $P(A) = 0.3$, $P(B) = 0.6$ and $P(A \\cap B) = 0.1$\n",
    "\n",
    "Which of the following statements are false?\n",
    "* $P(A \\cup B) = 0.6$\n",
    "* $P(A \\cap B^{C}) = 0.2$\n",
    "* $P(A \\cap (B \\cup B^{C})) = 0.4$\n",
    "* $P(A^{C} \\cap B^{C}) = 0.3$\n",
    "* $P((A \\cap B)^{C}) = 0.9$"
   ]
  },
  {
   "cell_type": "code",
   "execution_count": 1,
   "metadata": {},
   "outputs": [
    {
     "data": {
      "text/plain": [
       "0.18"
      ]
     },
     "execution_count": 1,
     "metadata": {},
     "output_type": "execute_result"
    }
   ],
   "source": [
    "0.3*0.6 #not 0.1 so they are not independent?"
   ]
  },
  {
   "cell_type": "code",
   "execution_count": null,
   "metadata": {},
   "outputs": [],
   "source": [
    "#since the intersection is 0.1 they are not completely independent\n",
    "\n",
    "\"\"\"\n",
    "𝑃(𝐴∪𝐵)=P(A)+P(B)-𝑃(𝐴∩𝐵)\n",
    "𝑃(𝐴∩𝐵)=P(A)P(B)\n",
    "P(Ac) = 1 − P(A)\n",
    "\n",
    "\n",
    "\n",
    "P (A ∪ B) = 0.3 + 0.6 -(0.1) = 0.8 FALSE\n",
    "\n",
    "𝑃(𝐴∩𝐵c) = P(A)- P(𝐴∩𝐵) = 0.3-0.1 = 0.2 TRUE\n",
    "\n",
    "𝑃(𝐴 ∩(𝐵 ∪ 𝐵c)) = P(A) * (P(B)+(1-P(B)) = 0.3*1= 0.3 FALSE\n",
    "\n",
    "𝑃(𝐴c∩𝐵c)= 1-(P(A)+P(B)-P(𝐴∩𝐵)) = 1-(0.3+0.6-0.1) = 1 - 0.8 = 0.2 FALSE\n",
    "\n",
    "𝑃((𝐴∩𝐵)c)= 1 - 𝑃(𝐴∩𝐵) = 1-0.1 = 0.9 TRUE\n",
    "\n",
    "\"\"\""
   ]
  },
  {
   "cell_type": "markdown",
   "metadata": {},
   "source": [
    "## Challenge 2\n",
    "There is a box with 10 white balls, 12 red balls and 8 black balls. Calculate the probability of:\n",
    "* Taking a white ball out.\n",
    "* Taking a white ball out after taking a black ball out.\n",
    "* Taking a red ball out after taking a black and a red ball out.\n",
    "* Taking a red ball out after taking a black and a red ball out with reposition.\n",
    "\n",
    "**Hint**: Reposition means putting back the ball into the box after taking it out."
   ]
  },
  {
   "cell_type": "code",
   "execution_count": null,
   "metadata": {},
   "outputs": [],
   "source": [
    "\"\"\"\n",
    "white ball--> 10/30 = 0.33\n",
    "white after black --> 10/30*8/29 = 0.092\n",
    "red, black and red --> 12/30*8/29*12/28 = 0.047\n",
    "red, black and red with repo -->12/30*8/30*12/30 = 0.0426\n",
    "\"\"\""
   ]
  },
  {
   "cell_type": "code",
   "execution_count": 7,
   "metadata": {},
   "outputs": [
    {
     "data": {
      "text/plain": [
       "0.042666666666666665"
      ]
     },
     "execution_count": 7,
     "metadata": {},
     "output_type": "execute_result"
    }
   ],
   "source": [
    "12/30*8/30*12/30"
   ]
  },
  {
   "cell_type": "markdown",
   "metadata": {},
   "source": [
    "## Challenge 3\n",
    "\n",
    "You are planning to go on a picnic today but the morning is cloudy. You hate rain so you don't know whether to go out or stay home! To help you make a decision, you gather the following data about rainy days:\n",
    "\n",
    "* 50% of all rainy days start off cloudy!\n",
    "* Cloudy mornings are common. About 40% of days start cloudy. \n",
    "* This month is usually dry so only 3 of 30 days (10%) tend to be rainy. \n",
    "\n",
    "What is the chance of rain during the day?"
   ]
  },
  {
   "cell_type": "code",
   "execution_count": null,
   "metadata": {},
   "outputs": [],
   "source": [
    "#0.5 rainy days start with clouds\n",
    "#40% days are cloudy\n",
    "#0.1% of days are rainy\n",
    "\n",
    "\"\"\"\n",
    "P(rain|clouds) = P(clouds ∩ rain) * P(rain)/P(clouds) = 0.5*0.1/0.4 = 0.125\n",
    "\"\"\""
   ]
  },
  {
   "cell_type": "code",
   "execution_count": 8,
   "metadata": {},
   "outputs": [
    {
     "data": {
      "text/plain": [
       "0.125"
      ]
     },
     "execution_count": 8,
     "metadata": {},
     "output_type": "execute_result"
    }
   ],
   "source": [
    "0.5*0.1/0.4"
   ]
  },
  {
   "cell_type": "markdown",
   "metadata": {},
   "source": [
    "## Challenge 4\n",
    "\n",
    "One thousand people were asked through a telephone survey whether they thought more street lighting is needed at night or not.\n",
    "\n",
    "Out of the 480 men that answered the survey, 324 said yes and 156 said no. On the other hand, out of the 520 women that answered, 351 said yes and 169 said no. \n",
    "\n",
    "We wonder if men and women have a different opinions about the street lighting matter. Is gender relevant or irrelevant to the question?\n",
    "\n",
    "Consider the following events:\n",
    "- The answer is yes, so the person that answered thinks that more street lighting is needed.\n",
    "- The person who answered is a man.\n",
    "\n",
    "We want to know if these events are independent, that is, if the fact of wanting more light depends on whether one is male or female. Are these events independent or not?\n",
    "\n",
    "**Hint**: To clearly compare the answers by gender, it is best to place the data in a table."
   ]
  },
  {
   "cell_type": "code",
   "execution_count": null,
   "metadata": {},
   "outputs": [],
   "source": []
  },
  {
   "cell_type": "code",
   "execution_count": 1,
   "metadata": {},
   "outputs": [
    {
     "name": "stdout",
     "output_type": "stream",
     "text": [
      "+---------------+------+--------+------------+\n",
      "| Street lights | Male | Female | Total(Y/N) |\n",
      "+---------------+------+--------+------------+\n",
      "|      YES      | 324  |  351   |    675     |\n",
      "|       NO      | 156  |  169   |    325     |\n",
      "|   Total(M/F)  | 480  |  520   |     -      |\n",
      "+---------------+------+--------+------------+\n"
     ]
    }
   ],
   "source": [
    "from prettytable import PrettyTable\n",
    "    \n",
    "x = PrettyTable()\n",
    "\n",
    "x.field_names = [\"Street lights\", \"Male\",'Female',\"Total(Y/N)\"]\n",
    "\n",
    "x.add_row([\"YES\", 324, 351,675])\n",
    "x.add_row([\"NO\", 156, 169,325])\n",
    "x.add_row([\"Total(M/F)\", 480, 520,\"-\"])\n",
    "print(x)"
   ]
  },
  {
   "cell_type": "code",
   "execution_count": null,
   "metadata": {},
   "outputs": [],
   "source": [
    "\"\"\"\n",
    "P(Male) = 0.480\n",
    "P(Female) = 0.520\n",
    "P(Yes|Male) = 324/480 = 0.675\n",
    "P(Yes|Female) = 351/520 = 0.675\n",
    "\n",
    "Probability of being a man or a woman is the same, therefore the events are independent\n",
    "\n",
    "\"\"\""
   ]
  }
 ],
 "metadata": {
  "kernelspec": {
   "display_name": "Python 3",
   "language": "python",
   "name": "python3"
  },
  "language_info": {
   "codemirror_mode": {
    "name": "ipython",
    "version": 3
   },
   "file_extension": ".py",
   "mimetype": "text/x-python",
   "name": "python",
   "nbconvert_exporter": "python",
   "pygments_lexer": "ipython3",
   "version": "3.8.3"
  },
  "toc": {
   "base_numbering": 1,
   "nav_menu": {},
   "number_sections": true,
   "sideBar": true,
   "skip_h1_title": false,
   "title_cell": "Table of Contents",
   "title_sidebar": "Contents",
   "toc_cell": false,
   "toc_position": {},
   "toc_section_display": true,
   "toc_window_display": false
  }
 },
 "nbformat": 4,
 "nbformat_minor": 2
}
