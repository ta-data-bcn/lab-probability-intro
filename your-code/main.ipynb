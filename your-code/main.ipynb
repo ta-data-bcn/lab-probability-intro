{
 "cells": [
  {
   "cell_type": "markdown",
   "metadata": {},
   "source": [
    "# Introduction To Probability\n",
    "## Challenge 1\n",
    "\n",
    "A and B are events of a probability space with $(\\omega, \\sigma, P)$ such that $P(A) = 0.3$, $P(B) = 0.6$ and $P(A \\cap B) = 0.1$\n",
    "\n",
    "Which of the following statements are false?\n",
    "* $P(A \\cup B) = 0.6$\n",
    "* $P(A \\cap B^{C}) = 0.2$\n",
    "* $P(A \\cap (B \\cup B^{C})) = 0.4$\n",
    "* $P(A^{C} \\cap B^{C}) = 0.3$\n",
    "* $P((A \\cap B)^{C}) = 0.9$"
   ]
  },
  {
   "cell_type": "code",
   "execution_count": null,
   "metadata": {},
   "outputs": [],
   "source": [
    "\"\"\"\n",
    "your solution here\n",
    "\n",
    "𝑃(𝐴∪𝐵) = 𝑃(𝐴) + 𝑃(𝐵) - 𝑃(𝐴∩𝐵) = 0.3 + 0.6 - 0.1 = 0.80 So, 𝑃(𝐴∪𝐵)=0.6 --> False statement.\n",
    "\n",
    "𝑃(𝐴∩(𝐵∪𝐵^c))= 𝑃(𝐴∩Universe) = P(A) = 0.3 So, 𝑃(𝐴∩(𝐵∪𝐵𝐶))=0.4 --> False statement.\n",
    "\n",
    "𝑃(𝐴^c∩𝐵^c)= 1 - 𝑃(𝐴∩𝐵) = 1 - 0.1 = 0.9 So, 𝑃(𝐴𝐶∩𝐵𝐶)=0.3 --> False statement.\n",
    "\n",
    "𝑃((𝐴∩𝐵)^c)= 1 - 𝑃(𝐴∪𝐵) = 1 - 0.8 = 0.2 So, 𝑃((𝐴∩𝐵)𝐶)=0.9 --> False statement. \n",
    "\n",
    "\"\"\""
   ]
  },
  {
   "cell_type": "markdown",
   "metadata": {},
   "source": [
    "## Challenge 2\n",
    "There is a box with 10 white balls, 12 red balls and 8 black balls. Calculate the probability of:\n",
    "* Taking a white ball out.\n",
    "* Taking a white ball out after taking a black ball out.\n",
    "* Taking a red ball out after taking a black and a red ball out.\n",
    "* Taking a red ball out after taking a black and a red ball out with reposition.\n",
    "\n",
    "**Hint**: Reposition means putting back the ball into the box after taking it out."
   ]
  },
  {
   "cell_type": "code",
   "execution_count": null,
   "metadata": {},
   "outputs": [],
   "source": [
    "\"\"\"\n",
    "your solution here\n",
    "\n",
    "P(one w ball) = 10 / 30 = 1/3\n",
    "\n",
    "P(one w ball|one b ball) = 10/29\n",
    "\n",
    "P(one r ball|one b ball|one r ball) = 11/28\n",
    "\n",
    "P(Taking a red ball out after taking a black and a red ball out with reposition) = 12 / 30 =2/5\n",
    "\n",
    "\n",
    "\"\"\""
   ]
  },
  {
   "cell_type": "markdown",
   "metadata": {},
   "source": [
    "## Challenge 3\n",
    "\n",
    "You are planning to go on a picnic today but the morning is cloudy. You hate rain so you don't know whether to go out or stay home! To help you make a decision, you gather the following data about rainy days:\n",
    "\n",
    "* 50% of all rainy days start off cloudy!\n",
    "* Cloudy mornings are common. About 40% of days start cloudy. \n",
    "* This month is usually dry so only 3 of 30 days (10%) tend to be rainy. \n",
    "\n",
    "What is the chance of rain during the day?"
   ]
  },
  {
   "cell_type": "code",
   "execution_count": null,
   "metadata": {},
   "outputs": [],
   "source": [
    "\"\"\"\n",
    "your solution here\n",
    "\n",
    "P(cloud_morning) = 0.4\n",
    "P(sunny_morning) = 0.6\n",
    "\n",
    "P(cloud_morning and rain) = 0.4 * 0.5 = 0.2\n",
    "\n",
    "P(sunny_morning and rain) = 0.6 * 0.1 = 0.06\n",
    "\n",
    "P(rain) = 0.2 + 0.06 = 0.26 --> ANSWER\n",
    "\n",
    "\"\"\""
   ]
  },
  {
   "cell_type": "markdown",
   "metadata": {},
   "source": [
    "## Challenge 4\n",
    "\n",
    "One thousand people were asked through a telephone survey whether they thought more street lighting is needed at night or not.\n",
    "\n",
    "Out of the 480 men that answered the survey, 324 said yes and 156 said no. On the other hand, out of the 520 women that answered, 351 said yes and 169 said no. \n",
    "\n",
    "We wonder if men and women have a different opinions about the street lighting matter. Is gender relevant or irrelevant to the question?\n",
    "\n",
    "Consider the following events:\n",
    "- The answer is yes, so the person that answered thinks that more street lighting is needed.\n",
    "- The person who answered is a man.\n",
    "\n",
    "We want to know if these events are independent, that is, if the fact of wanting more light depends on whether one is male or female. Are these events independent or not?\n",
    "\n",
    "**Hint**: To clearly compare the answers by gender, it is best to place the data in a table."
   ]
  },
  {
   "cell_type": "code",
   "execution_count": 9,
   "metadata": {},
   "outputs": [],
   "source": [
    "import pandas as pd\n",
    "import numpy as np"
   ]
  },
  {
   "cell_type": "code",
   "execution_count": 17,
   "metadata": {},
   "outputs": [
    {
     "data": {
      "text/html": [
       "<div>\n",
       "<style scoped>\n",
       "    .dataframe tbody tr th:only-of-type {\n",
       "        vertical-align: middle;\n",
       "    }\n",
       "\n",
       "    .dataframe tbody tr th {\n",
       "        vertical-align: top;\n",
       "    }\n",
       "\n",
       "    .dataframe thead th {\n",
       "        text-align: right;\n",
       "    }\n",
       "</style>\n",
       "<table border=\"1\" class=\"dataframe\">\n",
       "  <thead>\n",
       "    <tr style=\"text-align: right;\">\n",
       "      <th></th>\n",
       "      <th>gender</th>\n",
       "      <th>yes</th>\n",
       "      <th>no</th>\n",
       "    </tr>\n",
       "  </thead>\n",
       "  <tbody>\n",
       "    <tr>\n",
       "      <th>0</th>\n",
       "      <td>men</td>\n",
       "      <td>324</td>\n",
       "      <td>156</td>\n",
       "    </tr>\n",
       "    <tr>\n",
       "      <th>1</th>\n",
       "      <td>woman</td>\n",
       "      <td>351</td>\n",
       "      <td>169</td>\n",
       "    </tr>\n",
       "  </tbody>\n",
       "</table>\n",
       "</div>"
      ],
      "text/plain": [
       "  gender  yes   no\n",
       "0    men  324  156\n",
       "1  woman  351  169"
      ]
     },
     "execution_count": 17,
     "metadata": {},
     "output_type": "execute_result"
    }
   ],
   "source": [
    "# your code here\n",
    "\n",
    "pol = {\n",
    "  'gender' : ['men', 'woman'],\n",
    "  'yes' : [324,351],\n",
    "  'no' : [156,169],\n",
    "}\n",
    "\n",
    "df_pol = pd.DataFrame(pol)\n",
    "df_pol"
   ]
  },
  {
   "cell_type": "code",
   "execution_count": 18,
   "metadata": {},
   "outputs": [
    {
     "data": {
      "text/html": [
       "<div>\n",
       "<style scoped>\n",
       "    .dataframe tbody tr th:only-of-type {\n",
       "        vertical-align: middle;\n",
       "    }\n",
       "\n",
       "    .dataframe tbody tr th {\n",
       "        vertical-align: top;\n",
       "    }\n",
       "\n",
       "    .dataframe thead th {\n",
       "        text-align: right;\n",
       "    }\n",
       "</style>\n",
       "<table border=\"1\" class=\"dataframe\">\n",
       "  <thead>\n",
       "    <tr style=\"text-align: right;\">\n",
       "      <th></th>\n",
       "      <th>gender</th>\n",
       "      <th>yes</th>\n",
       "      <th>no</th>\n",
       "      <th>total</th>\n",
       "    </tr>\n",
       "  </thead>\n",
       "  <tbody>\n",
       "    <tr>\n",
       "      <th>0</th>\n",
       "      <td>men</td>\n",
       "      <td>324.0</td>\n",
       "      <td>156.0</td>\n",
       "      <td>480.0</td>\n",
       "    </tr>\n",
       "    <tr>\n",
       "      <th>1</th>\n",
       "      <td>woman</td>\n",
       "      <td>351.0</td>\n",
       "      <td>169.0</td>\n",
       "      <td>520.0</td>\n",
       "    </tr>\n",
       "    <tr>\n",
       "      <th>2</th>\n",
       "      <td>total</td>\n",
       "      <td>675.0</td>\n",
       "      <td>325.0</td>\n",
       "      <td>1000.0</td>\n",
       "    </tr>\n",
       "  </tbody>\n",
       "</table>\n",
       "</div>"
      ],
      "text/plain": [
       "  gender    yes     no   total\n",
       "0    men  324.0  156.0   480.0\n",
       "1  woman  351.0  169.0   520.0\n",
       "2  total  675.0  325.0  1000.0"
      ]
     },
     "execution_count": 18,
     "metadata": {},
     "output_type": "execute_result"
    }
   ],
   "source": [
    "\"\"\"Get the total of each column\"\"\"\n",
    "\n",
    "df_pol.loc[2] = df_pol.select_dtypes(pd.np.number).sum()\n",
    "\n",
    "df_pol= df_pol.fillna('total')\n",
    "\n",
    "\"\"\"Get the total of each rows\"\"\"\n",
    "\n",
    "total_rows = list(df_pol.sum(axis= 1, skipna = True))\n",
    "\n",
    "df_pol['total'] = total_rows\n",
    "\n",
    "df_pol"
   ]
  },
  {
   "cell_type": "code",
   "execution_count": null,
   "metadata": {},
   "outputs": [],
   "source": [
    "\"\"\"\n",
    "your solution here\n",
    "\n",
    "P(Man|Yes) = P(Man and Yes) / P(Yes) = (324/1000) / (675/1000) = 0.48\n",
    "\n",
    "P(Man) = 480 / 1000 = .48\n",
    "\n",
    "If the experimental probability of one event given other event is significant different from the original\n",
    "then we can make an statement that these events are not independent. \n",
    "\n",
    "In this case the probabilities are exaclty the same so we can make the statement that this events are\n",
    "indeed independent. P(A|B) = P(A) and P(B|A) = P(B) Then this events are independent.\n",
    "\n",
    "P(Woman|Yes) = P(Woman and Yes) / P(Yes) = (351/1000) / (675/1000) = 0.52\n",
    "\n",
    "P(Woman) 520 / 1000 = 0.52 --> Again this events are independent. \n",
    "\n",
    "The fact of wanting more light do not depends on whether one is male or female.\n",
    "\n",
    "\n",
    "\"\"\""
   ]
  }
 ],
 "metadata": {
  "kernelspec": {
   "display_name": "Python 3",
   "language": "python",
   "name": "python3"
  },
  "language_info": {
   "codemirror_mode": {
    "name": "ipython",
    "version": 3
   },
   "file_extension": ".py",
   "mimetype": "text/x-python",
   "name": "python",
   "nbconvert_exporter": "python",
   "pygments_lexer": "ipython3",
   "version": "3.7.3"
  }
 },
 "nbformat": 4,
 "nbformat_minor": 2
}
