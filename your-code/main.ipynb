{
 "cells": [
  {
   "cell_type": "markdown",
   "metadata": {},
   "source": [
    "# Introduction To Probability\n",
    "## Challenge 1\n",
    "\n",
    "A and B are events of a probability space with $(\\omega, \\sigma, P)$ such that $P(A) = 0.3$, $P(B) = 0.6$ and $P(A \\cap B) = 0.1$\n",
    "\n",
    "Which of the following statements are false?\n",
    "* $P(A \\cup B) = 0.6$\n",
    "* $P(A \\cap B^{C}) = 0.2$\n",
    "* $P(A \\cap (B \\cup B^{C})) = 0.4$\n",
    "* $P(A^{C} \\cap B^{C}) = 0.3$\n",
    "* $P((A \\cap B)^{C}) = 0.9$"
   ]
  },
  {
   "cell_type": "code",
   "execution_count": 1,
   "metadata": {},
   "outputs": [
    {
     "data": {
      "text/plain": [
       "'\\nyour solution here\\n𝑃(𝐴∪𝐵)= 0.3 + 0.6 -0.1 = 0.8  False\\n𝑃(𝐴∩𝐵𝐶) = 0.3 * 0.4 = 0.12 False\\n𝑃(𝐴∩(𝐵∪𝐵𝐶)) = 0.3 * (0.6+0.4) = 0.3 False\\n𝑃(𝐴𝐶∩𝐵𝐶) = 0.7*0.4 = 0.28 False\\n𝑃((𝐴∩𝐵)𝐶) = 0.7 * 0.4 = 0.28 Flse \\n'"
      ]
     },
     "execution_count": 1,
     "metadata": {},
     "output_type": "execute_result"
    }
   ],
   "source": [
    "\"\"\"\n",
    "your solution here\n",
    "𝑃(𝐴∪𝐵)= 0.3 + 0.6 -0.1 = 0.8  False\n",
    "𝑃(𝐴∩𝐵𝐶) = 0.3 * 0.4 = 0.12 False\n",
    "𝑃(𝐴∩(𝐵∪𝐵𝐶)) = 0.3 * (0.6+0.4) = 0.3 False\n",
    "𝑃(𝐴𝐶∩𝐵𝐶) = 0.7*0.4 = 0.28 False\n",
    "𝑃((𝐴∩𝐵)𝐶) = 0.7 * 0.4 = 0.28 False \n",
    "\"\"\"\n"
   ]
  },
  {
   "cell_type": "markdown",
   "metadata": {},
   "source": [
    "## Challenge 2\n",
    "There is a box with 10 white balls, 12 red balls and 8 black balls. Calculate the probability of:\n",
    "* Taking a white ball out.\n",
    "* Taking a white ball out after taking a black ball out.\n",
    "* Taking a red ball out after taking a black and a red ball out.\n",
    "* Taking a red ball out after taking a black and a red ball out with reposition.\n",
    "\n",
    "**Hint**: Reposition means putting back the ball into the box after taking it out."
   ]
  },
  {
   "cell_type": "code",
   "execution_count": 2,
   "metadata": {},
   "outputs": [
    {
     "data": {
      "text/plain": [
       "'\\nyour solution here\\n\\nTaking a white ball out :\\n10/10+12+8 =10/30=0.33\\n\\nTaking a white ball out after taking a black ball out: \\n9/9+12+7=9/28=0.32\\n\\nTaking a red ball out after taking a black and a red ball out: \\n11/8+11+7 = 11/26=0.42  \\n\\nTaking a red ball out after taking a black and a red ball out with reposition: \\n12/8+12+8= 0.42\\n'"
      ]
     },
     "execution_count": 2,
     "metadata": {},
     "output_type": "execute_result"
    }
   ],
   "source": [
    "\"\"\"\n",
    "your solution here\n",
    "\n",
    "Taking a white ball out :\n",
    "10/10+12+8 =10/30=0.33\n",
    "\n",
    "Taking a white ball out after taking a black ball out: \n",
    "9/9+12+7=9/28=0.32\n",
    "\n",
    "Taking a red ball out after taking a black and a red ball out: \n",
    "11/8+11+7 = 11/26=0.42  \n",
    "\n",
    "Taking a red ball out after taking a black and a red ball out with reposition: \n",
    "12/8+12+8= 0.42\n",
    "\"\"\""
   ]
  },
  {
   "cell_type": "markdown",
   "metadata": {},
   "source": [
    "## Challenge 3\n",
    "\n",
    "You are planning to go on a picnic today but the morning is cloudy. You hate rain so you don't know whether to go out or stay home! To help you make a decision, you gather the following data about rainy days:\n",
    "\n",
    "* 50% of all rainy days start off cloudy!\n",
    "* Cloudy mornings are common. About 40% of days start cloudy. \n",
    "* This month is usually dry so only 3 of 30 days (10%) tend to be rainy. \n",
    "\n",
    "What is the chance of rain during the day?"
   ]
  },
  {
   "cell_type": "code",
   "execution_count": 3,
   "metadata": {},
   "outputs": [
    {
     "data": {
      "text/plain": [
       "'\\nyour solution here\\nrain:p(A)= 0.1\\ncloudy: p(B)= 0.4\\np(B|A)= 0.5 \\n\\n𝑃(𝐴|𝐵)=𝑃(𝐵|𝐴)·𝑃(𝐴)/𝑃(𝐵)=0.5·0.1/0.4=0.125 \\n'"
      ]
     },
     "execution_count": 3,
     "metadata": {},
     "output_type": "execute_result"
    }
   ],
   "source": [
    "\"\"\"\n",
    "your solution here\n",
    "rain:p(A)= 0.1\n",
    "cloudy: p(B)= 0.4\n",
    "p(B|A)= 0.5 \n",
    "\n",
    "𝑃(𝐴|𝐵)=𝑃(𝐵|𝐴)·𝑃(𝐴)/𝑃(𝐵)=0.5·0.1/0.4=0.125 \n",
    "\"\"\""
   ]
  },
  {
   "cell_type": "markdown",
   "metadata": {},
   "source": [
    "## Challenge 4\n",
    "\n",
    "One thousand people were asked through a telephone survey whether they thought more street lighting is needed at night or not.\n",
    "\n",
    "Out of the 480 men that answered the survey, 324 said yes and 156 said no. On the other hand, out of the 520 women that answered, 351 said yes and 169 said no. \n",
    "\n",
    "We wonder if men and women have a different opinions about the street lighting matter. Is gender relevant or irrelevant to the question?\n",
    "\n",
    "Consider the following events:\n",
    "- The answer is yes, so the person that answered thinks that more street lighting is needed.\n",
    "- The person who answered is a man.\n",
    "\n",
    "We want to know if these events are independent, that is, if the fact of wanting more light depends on whether one is male or female. Are these events independent or not?\n",
    "\n",
    "**Hint**: To clearly compare the answers by gender, it is best to place the data in a table."
   ]
  },
  {
   "cell_type": "code",
   "execution_count": 7,
   "metadata": {},
   "outputs": [
    {
     "data": {
      "text/plain": [
       "'\\nmen_yes = 324/480 = 0.675\\nmen_no = 156/ 480 = 0.325\\n\\nwomen_yes = 351/520 = 0.675\\nwomen_no = 169/520 = 0.325\\n'"
      ]
     },
     "execution_count": 7,
     "metadata": {},
     "output_type": "execute_result"
    }
   ],
   "source": [
    "# your code here\n",
    "\n",
    "\"\"\"\n",
    "men_yes = 324/480 = 0.675\n",
    "men_no = 156/ 480 = 0.325\n",
    "\n",
    "women_yes = 351/520 = 0.675\n",
    "women_no = 169/520 = 0.325\n",
    "\"\"\""
   ]
  },
  {
   "cell_type": "code",
   "execution_count": null,
   "metadata": {},
   "outputs": [],
   "source": []
  },
  {
   "cell_type": "code",
   "execution_count": 6,
   "metadata": {},
   "outputs": [
    {
     "data": {
      "text/plain": [
       "'\\nyour solution here\\n'"
      ]
     },
     "execution_count": 6,
     "metadata": {},
     "output_type": "execute_result"
    }
   ],
   "source": [
    "\"\"\"\n",
    "your solution here\n",
    "\"\"\""
   ]
  },
  {
   "cell_type": "code",
   "execution_count": null,
   "metadata": {},
   "outputs": [],
   "source": []
  }
 ],
 "metadata": {
  "kernelspec": {
   "display_name": "Python 3",
   "language": "python",
   "name": "python3"
  },
  "language_info": {
   "codemirror_mode": {
    "name": "ipython",
    "version": 3
   },
   "file_extension": ".py",
   "mimetype": "text/x-python",
   "name": "python",
   "nbconvert_exporter": "python",
   "pygments_lexer": "ipython3",
   "version": "3.7.6"
  }
 },
 "nbformat": 4,
 "nbformat_minor": 2
}
