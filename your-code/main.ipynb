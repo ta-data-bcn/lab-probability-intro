{
 "cells": [
  {
   "cell_type": "markdown",
   "metadata": {},
   "source": [
    "# Introduction To Probability\n",
    "## Challenge 1\n",
    "\n",
    "A and B are events of a probability space with $(\\omega, \\sigma, P)$ such that $P(A) = 0.3$, $P(B) = 0.6$ and $P(A \\cap B) = 0.1$\n",
    "\n",
    "Which of the following statements are false?\n",
    "* $P(A \\cup B) = 0.6$\n",
    "* $P(A \\cap B^{C}) = 0.2$\n",
    "* $P(A \\cap (B \\cup B^{C})) = 0.4$\n",
    "* $P(A^{C} \\cap B^{C}) = 0.3$\n",
    "* $P((A \\cap B)^{C}) = 0.9$"
   ]
  },
  {
   "cell_type": "code",
   "execution_count": null,
   "metadata": {},
   "outputs": [],
   "source": [
    "\"\"\"\n",
    "𝑃(𝐴∪𝐵)= P(A) + P(B) - P(A∩B) = 0.3 + 0.6 - 0.1 = 0.8 != 0.6 FALSE\n",
    "𝑃(𝐴∩𝐵𝐶)= P(A) - P(A∩B) = 0.3 - 0.1 = 0.2 TRUE\n",
    "𝑃(𝐴∩(𝐵∪𝐵𝐶))= P(A∩ω) = P(A) = 0.3 != 0.4 FALSE\n",
    "𝑃(𝐴𝐶∩𝐵𝐶)= 1 - P(𝐴∪𝐵) = 1 - 0.8 = 0.2 != 0.3 FALSE\n",
    "𝑃((𝐴∩𝐵)𝐶)= 1 - P(A∩B) = 1 - 0.1 = 0.9 TRUE\n",
    "\"\"\""
   ]
  },
  {
   "cell_type": "markdown",
   "metadata": {},
   "source": [
    "## Challenge 2\n",
    "There is a box with 10 white balls, 12 red balls and 8 black balls. Calculate the probability of:\n",
    "* Taking a white ball out.\n",
    "* Taking a white ball out after taking a black ball out.\n",
    "* Taking a red ball out after taking a black and a red ball out.\n",
    "* Taking a red ball out after taking a black and a red ball out with reposition.\n",
    "\n",
    "**Hint**: Reposition means putting back the ball into the box after taking it out."
   ]
  },
  {
   "cell_type": "code",
   "execution_count": null,
   "metadata": {},
   "outputs": [],
   "source": [
    "\"\"\"\n",
    "Probability of taking one white ball out = 10/30 = 0.333 \n",
    "Probability of taking one white ball out after taking one black ball out = 10/29 = 0.345\n",
    "Probability of taking one red ball out after taking a black and a red ball out = 11/28 = 0.393\n",
    "Probability of taking one red ball out after taking a black and a red ball out with reposition = 12/30 = 0.4\n",
    "\"\"\""
   ]
  },
  {
   "cell_type": "markdown",
   "metadata": {},
   "source": [
    "## Challenge 3\n",
    "\n",
    "You are planning to go on a picnic today but the morning is cloudy. You hate rain so you don't know whether to go out or stay home! To help you make a decision, you gather the following data about rainy days:\n",
    "\n",
    "* 50% of all rainy days start off cloudy!\n",
    "* Cloudy mornings are common. About 40% of days start cloudy. \n",
    "* This month is usually dry so only 3 of 30 days (10%) tend to be rainy. \n",
    "\n",
    "What is the chance of rain during the day?"
   ]
  },
  {
   "cell_type": "code",
   "execution_count": null,
   "metadata": {},
   "outputs": [],
   "source": [
    "\"\"\"\n",
    "P(R) = 0.1\n",
    "P(C) = 0.4\n",
    "P(C|R) = 0.5\n",
    "\n",
    "P(R|C) = (P(C|R) * P(R)) / P(C) = (0.5*0.1)/0.4 = 0.125\n",
    "\n",
    "There is a 0.125 chance of it raining.\n",
    "\"\"\""
   ]
  },
  {
   "cell_type": "markdown",
   "metadata": {},
   "source": [
    "## Challenge 4\n",
    "\n",
    "One thousand people were asked through a telephone survey whether they thought more street lighting is needed at night or not.\n",
    "\n",
    "Out of the 480 men that answered the survey, 324 said yes and 156 said no. On the other hand, out of the 520 women that answered, 351 said yes and 169 said no. \n",
    "\n",
    "We wonder if men and women have a different opinions about the street lighting matter. Is gender relevant or irrelevant to the question?\n",
    "\n",
    "Consider the following events:\n",
    "- The answer is yes, so the person that answered thinks that more street lighting is needed.\n",
    "- The person who answered is a man.\n",
    "\n",
    "We want to know if these events are independent, that is, if the fact of wanting more light depends on whether one is male or female. Are these events independent or not?\n",
    "\n",
    "**Hint**: To clearly compare the answers by gender, it is best to place the data in a table."
   ]
  },
  {
   "cell_type": "code",
   "execution_count": 7,
   "metadata": {},
   "outputs": [
    {
     "name": "stdout",
     "output_type": "stream",
     "text": [
      "Both variables are independent\n"
     ]
    }
   ],
   "source": [
    "# your code here\n",
    "\n",
    "import numpy as np\n",
    "\n",
    "def check_independent(p_A, p_B, p_A_and_B):\n",
    "    return ((p_A)*(p_B) == p_A_and_B)\n",
    "\n",
    "\n",
    "answers = [[324, 156], [351, 169]]\n",
    "answers_table = np.array(answers)\n",
    "\n",
    "men_yes = answers_table[0][0]\n",
    "men_no = answers_table[0][1]\n",
    "women_yes = answers_table[1][0]\n",
    "women_no = answers_table[1][1]\n",
    "total = np.sum(answers_table)\n",
    "\n",
    "p_yes = (men_yes + women_yes) / total\n",
    "p_man = (men_yes + men_no) / total\n",
    "p_yes_and_man = men_yes / total\n",
    "\n",
    "independent = check_independent(p_yes, p_man, p_yes_and_man)\n",
    "if independent == True:\n",
    "    print('Both variables are independent')\n",
    "else: \n",
    "    print('Both variables are dependent')    "
   ]
  },
  {
   "cell_type": "code",
   "execution_count": 6,
   "metadata": {
    "scrolled": true
   },
   "outputs": [
    {
     "data": {
      "text/plain": [
       "'\\nIn order for the two events to be independent, at least one of the following statements must be true:\\nP(A)*P(B) = P(A ∩ B)\\nP(A|B) = P(A)\\nP(B|A) = P(B)\\n\\nWe know that\\n'"
      ]
     },
     "execution_count": 6,
     "metadata": {},
     "output_type": "execute_result"
    }
   ],
   "source": [
    "\"\"\"\n",
    "In order for the two events to be independent, at least one of the following statements must be true:\n",
    "P(M)*P(Y) = P(M ∩ Y)  \n",
    "P(M|Y) = P(M)\n",
    "P(Y|M) = P(Y)\n",
    "\n",
    "The three statements are actually the same one, since: \n",
    "\n",
    "P(M|Y) = P(M ∩ Y) / P(Y)\n",
    "P(Y|M) = P(Y ∩ M) / P(M)\n",
    "P(M ∩ Y) = P(Y ∩ M)\n",
    "\n",
    "In the case above, the statements are true, so both variables are independent\n",
    "\"\"\""
   ]
  }
 ],
 "metadata": {
  "kernelspec": {
   "display_name": "Python 3",
   "language": "python",
   "name": "python3"
  },
  "language_info": {
   "codemirror_mode": {
    "name": "ipython",
    "version": 3
   },
   "file_extension": ".py",
   "mimetype": "text/x-python",
   "name": "python",
   "nbconvert_exporter": "python",
   "pygments_lexer": "ipython3",
   "version": "3.7.4"
  }
 },
 "nbformat": 4,
 "nbformat_minor": 2
}
