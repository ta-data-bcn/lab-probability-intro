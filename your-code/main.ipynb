{
 "cells": [
  {
   "cell_type": "markdown",
   "metadata": {},
   "source": [
    "# Introduction To Probability\n",
    "## Challenge 1\n",
    "\n",
    "A and B are events of a probability space with $(\\omega, \\sigma, P)$ such that $P(A) = 0.3$, $P(B) = 0.6$ and $P(A \\cap B) = 0.1$\n",
    "\n",
    "Which of the following statements are false?\n",
    "* $P(A \\cup B) = 0.6$\n",
    "* $P(A \\cap B^{C}) = 0.2$\n",
    "* $P(A \\cap (B \\cup B^{C})) = 0.4$\n",
    "* $P(A^{C} \\cap B^{C}) = 0.3$\n",
    "* $P((A \\cap B)^{C}) = 0.9$"
   ]
  },
  {
   "cell_type": "markdown",
   "metadata": {},
   "source": [
    "My solution below:\n",
    "* FALSE: $P(A \\cup B) = 0.6$\n",
    "* TRUE: $P(A \\cap B^{C}) = 0.2$\n",
    "* FALSE: $P(A \\cap (B \\cup B^{C})) = 0.4$\n",
    "* FALSE: $P(A^{C} \\cap B^{C}) = 0.3$\n",
    "* TRUE: $P((A \\cap B)^{C}) = 0.9$"
   ]
  },
  {
   "cell_type": "markdown",
   "metadata": {},
   "source": [
    "## Challenge 2\n",
    "There is a box with 10 white balls, 12 red balls and 8 black balls. Calculate the probability of:\n",
    "* Taking a white ball out.\n",
    "* Taking a white ball out after taking a black ball out.\n",
    "* Taking a red ball out after taking a black and a red ball out.\n",
    "* Taking a red ball out after taking a black and a red ball out with reposition.\n",
    "\n",
    "**Hint**: Reposition means putting back the ball into the box after taking it out."
   ]
  },
  {
   "cell_type": "markdown",
   "metadata": {},
   "source": [
    "My solution below:\n",
    "* Taking a white ball out (no reposition): $\\displaystyle\\frac{1}{3}$\n",
    "* Taking a white ball out after taking a black ball out (no reposition): $\\displaystyle\\left(\\frac{4}{15}\\,\\frac{10}{29}\\right)$\n",
    "* Taking a red ball out after taking a black and a red ball out (no reposition): $\\displaystyle\\left(\\frac{2}{5}\\,\\frac{8}{29}\\,\\frac{11}{28}\\right)$\n",
    "* Taking a red ball out after taking a black and a red ball out with reposition: $\\displaystyle\\left(\\frac{4}{25}\\,\\frac{4}{15}\\right)$"
   ]
  },
  {
   "cell_type": "markdown",
   "metadata": {},
   "source": [
    "## Challenge 3\n",
    "\n",
    "You are planning to go on a picnic today but the morning is cloudy. You hate rain so you don't know whether to go out or stay home! To help you make a decision, you gather the following data about rainy days:\n",
    "\n",
    "* 50% of all rainy days start off cloudy!\n",
    "* Cloudy mornings are common. About 40% of days start cloudy. \n",
    "* This month is usually dry so only 3 of 30 days (10%) tend to be rainy. \n",
    "\n",
    "What is the chance of rain during the day?"
   ]
  },
  {
   "cell_type": "markdown",
   "metadata": {},
   "source": [
    "Solve conditional probability, using Bayes Theorem:\n",
    "\n",
    "$P(\\mathrm{rains}|\\mathrm{cloudy\\,morning}) = \\displaystyle{\\frac{P(\\mathrm{cloudy\\,morning}|\\mathrm{rains})\\;P(\\mathrm{rains})}{P(\\mathrm{cloudy\\,morning})}}=\\frac{0.5\\,0.1}{0.4}$\n"
   ]
  },
  {
   "cell_type": "markdown",
   "metadata": {},
   "source": [
    "## Challenge 4\n",
    "\n",
    "One thousand people were asked through a telephone survey whether they thought more street lighting is needed at night or not.\n",
    "\n",
    "Out of the 480 men that answered the survey, 324 said yes and 156 said no. On the other hand, out of the 520 women that answered, 351 said yes and 169 said no. \n",
    "\n",
    "We wonder if men and women have a different opinions about the street lighting matter. Is gender relevant or irrelevant to the question?\n",
    "\n",
    "Consider the following events:\n",
    "- The answer is yes, so the person that answered thinks that more street lighting is needed.\n",
    "- The person who answered is a man.\n",
    "\n",
    "We want to know if these events are independent, that is, if the fact of wanting more light depends on whether one is male or female. Are these events independent or not?\n",
    "\n",
    "**Hint**: To clearly compare the answers by gender, it is best to place the data in a table."
   ]
  },
  {
   "cell_type": "code",
   "execution_count": 1,
   "metadata": {},
   "outputs": [
    {
     "name": "stdout",
     "output_type": "stream",
     "text": [
      "Conditional probability P(Yes|Man): 0.675 while P(Yes): 0.675 \n"
     ]
    }
   ],
   "source": [
    "# your code here\n",
    "list_M = [324,156]\n",
    "list_W = [351,169]\n",
    "P_yes_man = list_M[0]/sum(list_M)\n",
    "P_yes = (list_M[0] + list_W[0])/(sum(list_M)+sum(list_W))\n",
    "print(f\"Conditional probability P(Yes|Man): {P_yes_man} while P(Yes): {P_yes} \")"
   ]
  },
  {
   "cell_type": "markdown",
   "metadata": {},
   "source": [
    "The answer is that gender is **irrelevant** to the question that *street lights matter*. We could also arrive to this conclusion by looking that the percentages of answers of YES/NO are the same for men and women. The answer above shows this in a more theoretical way, by stating that the conditional probabilities: $P\\,(\\mathrm{answer}|\\mathrm{gender}) = P\\,(\\mathrm{answer})$ (an actual definition of independence)."
   ]
  }
 ],
 "metadata": {
  "kernelspec": {
   "display_name": "Python 3",
   "language": "python",
   "name": "python3"
  },
  "language_info": {
   "codemirror_mode": {
    "name": "ipython",
    "version": 3
   },
   "file_extension": ".py",
   "mimetype": "text/x-python",
   "name": "python",
   "nbconvert_exporter": "python",
   "pygments_lexer": "ipython3",
   "version": "3.7.6"
  }
 },
 "nbformat": 4,
 "nbformat_minor": 2
}
