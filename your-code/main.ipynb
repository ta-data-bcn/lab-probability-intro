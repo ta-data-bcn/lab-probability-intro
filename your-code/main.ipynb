{
 "cells": [
  {
   "cell_type": "markdown",
   "metadata": {},
   "source": [
    "# Introduction To Probability\n",
    "## Challenge 1\n",
    "\n",
    "A and B are events of a probability space with $(\\omega, \\sigma, P)$ such that $P(A) = 0.3$, $P(B) = 0.6$ and $P(A \\cap B) = 0.1$\n",
    "\n",
    "Which of the following statements are false?\n",
    "* $P(A \\cup B) = 0.6$\n",
    "* $P(A \\cap B^{C}) = 0.2$\n",
    "* $P(A \\cap (B \\cup B^{C})) = 0.4$\n",
    "* $P(A^{C} \\cap B^{C}) = 0.3$\n",
    "* $P((A \\cap B)^{C}) = 0.9$"
   ]
  },
  {
   "cell_type": "markdown",
   "metadata": {},
   "source": [
    "#### ANSWER\n",
    "\n",
    "1: 𝑃(𝐴∪𝐵)=0.6 --> FALSE --> 0.3 + 0.6 - 0.1 = 0.8\n",
    "\n",
    "2: 𝑃(𝐴∩𝐵𝐶)=0.2 --> TRUE --> 0.3 - 0.1 = 0.2\n",
    "\n",
    "3: 𝑃(𝐴∩(𝐵∪𝐵𝐶))=0.4 --> FALSE --> 0.3  \n",
    "\n",
    "4: 𝑃(𝐴𝐶∩𝐵𝐶)=0.3 --> FALSE --> 1 - (0.6 + 0.3 - 0.1) = 1 - 0.8 = 0.2\n",
    "\n",
    "5: 𝑃((𝐴∩𝐵)𝐶)=0.9 --> TRUE --> 1 - 0.1 = 0.9"
   ]
  },
  {
   "cell_type": "markdown",
   "metadata": {},
   "source": [
    "## Challenge 2\n",
    "There is a box with 10 white balls, 12 red balls and 8 black balls. Calculate the probability of:\n",
    "* Taking a white ball out.\n",
    "* Taking a white ball out after taking a black ball out.\n",
    "* Taking a red ball out after taking a black and a red ball out.\n",
    "* Taking a red ball out after taking a black and a red ball out with reposition.\n",
    "\n",
    "**Hint**: Reposition means putting back the ball into the box after taking it out."
   ]
  },
  {
   "cell_type": "markdown",
   "metadata": {},
   "source": [
    "#### ANSWER\n",
    "\n",
    "1: Taking a white ball out --> 10/30 = 0.33\n",
    "\n",
    "2: Taking a white ball out after taking a black ball out --> 8/30 * 10/29 = 4/45 = 0.091954\n",
    "\n",
    "3: Taking a red ball out after taking a black and a red ball out --> 8/30 * 12/29 * 12/28 = 48/1015 = 0.04729064\n",
    "\n",
    "4: Taking a red ball out after taking a black and a red ball out with reposition --> 8/30 * 12/30 * 12/30 = 16/375 = 0.042666667"
   ]
  },
  {
   "cell_type": "markdown",
   "metadata": {},
   "source": [
    "## Challenge 3\n",
    "\n",
    "You are planning to go on a picnic today but the morning is cloudy. You hate rain so you don't know whether to go out or stay home! To help you make a decision, you gather the following data about rainy days:\n",
    "\n",
    "* 50% of all rainy days start off cloudy!\n",
    "* Cloudy mornings are common. About 40% of days start cloudy. \n",
    "* This month is usually dry so only 3 of 30 days (10%) tend to be rainy. \n",
    "\n",
    "What is the chance of rain during the day?"
   ]
  },
  {
   "cell_type": "markdown",
   "metadata": {},
   "source": [
    "#### ANSWER\n",
    "\n",
    "1. 50% of all rainy days start off cloudy = P(Rain|Cloud) = 0.5\n",
    "\n",
    "2. Cloudy mornings are common. About 40% of days start cloudy = P(Cloud) = 0.4\n",
    "\n",
    "3. This month is usually dry so only 3 of 30 days (10%) tend to be rainy = P(Rain) = 0.1\n",
    "\n",
    "Solution --> P(Rain|Cloud) = P(Rain) * P(Cloud|Rain) / P(Cloud) = 0.1 * 0.5 / 0.4 = 0.125 = 12.5 %"
   ]
  },
  {
   "cell_type": "markdown",
   "metadata": {},
   "source": [
    "## Challenge 4\n",
    "\n",
    "One thousand people were asked through a telephone survey whether they thought more street lighting is needed at night or not.\n",
    "\n",
    "Out of the 480 men that answered the survey, 324 said yes and 156 said no. On the other hand, out of the 520 women that answered, 351 said yes and 169 said no. \n",
    "\n",
    "We wonder if men and women have a different opinions about the street lighting matter. Is gender relevant or irrelevant to the question?\n",
    "\n",
    "Consider the following events:\n",
    "- The answer is yes, so the person that answered thinks that more street lighting is needed.\n",
    "- The person who answered is a man.\n",
    "\n",
    "We want to know if these events are independent, that is, if the fact of wanting more light depends on whether one is male or female. Are these events independent or not?\n",
    "\n",
    "**Hint**: To clearly compare the answers by gender, it is best to place the data in a table."
   ]
  },
  {
   "cell_type": "markdown",
   "metadata": {},
   "source": [
    "#### ANSWER\n",
    "\n",
    "Men = A = 324\n",
    "\n",
    "Women = B = 351\n",
    "\n",
    "The events will be independent if: P(A∩B) = P(A) * P(B)\n",
    "\n",
    "P(A) * P(B) / P(A) = P(A) * P(B) --> 324 * 351 / 324 = 324 * 351 --> 351 != 113724\n",
    "\n",
    "The events are dependent."
   ]
  }
 ],
 "metadata": {
  "kernelspec": {
   "display_name": "Python 3",
   "language": "python",
   "name": "python3"
  },
  "language_info": {
   "codemirror_mode": {
    "name": "ipython",
    "version": 3
   },
   "file_extension": ".py",
   "mimetype": "text/x-python",
   "name": "python",
   "nbconvert_exporter": "python",
   "pygments_lexer": "ipython3",
   "version": "3.8.3"
  }
 },
 "nbformat": 4,
 "nbformat_minor": 2
}
