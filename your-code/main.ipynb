{
 "cells": [
  {
   "cell_type": "markdown",
   "metadata": {},
   "source": [
    "# Introduction To Probability\n",
    "## Challenge 1\n",
    "\n",
    "A and B are events of a probability space with $(\\omega, \\sigma, P)$ such that $P(A) = 0.3$, $P(B) = 0.6$ and $P(A \\cap B) = 0.1$\n",
    "\n",
    "Which of the following statements are false?\n",
    "* $P(A \\cup B) = 0.6$\n",
    "* $P(A \\cap B^{C}) = 0.2$\n",
    "* $P(A \\cap (B \\cup B^{C})) = 0.4$\n",
    "* $P(A^{C} \\cap B^{C}) = 0.3$\n",
    "* $P((A \\cap B)^{C}) = 0.9$"
   ]
  },
  {
   "cell_type": "markdown",
   "metadata": {},
   "source": [
    "\"\"\"\n",
    "1. 𝑃(𝐴∪𝐵)= 0.6 - FALSE\n",
    "\n",
    "Real solution. \n",
    "\n",
    "𝑃(𝐴∪𝐵) = 𝑃(𝐴) + 𝑃(B) - 𝑃(𝐴∩𝐵) = 0.3 + 0.6 - 0.1 = 0.8\n",
    "\n",
    "2. 𝑃(𝐴∩𝐵𝐶)=0.2 ???\n",
    "\n",
    "Real solution.\n",
    "\n",
    "𝑃(𝐴∩𝐵𝐶) = 𝑃(𝐴)- 𝑃(𝐴∩𝐵)\n",
    "\n",
    "3. 𝑃(𝐴∩(𝐵∪𝐵𝐶))=0.4 ???\n",
    "\n",
    "\n",
    "4.𝑃(𝐴𝐶∩𝐵𝐶)=0.3 - FALSE\n",
    "\n",
    "𝑃(𝐴𝐶) + 𝑃(B𝐶) = (1-0.3) + (1-0.6) = 0.7 + 0.4 = 1.1\n",
    " \n",
    "5. 𝑃((𝐴∩𝐵)𝐶)=0.9 - TRUE\n",
    "\n",
    "𝑃((𝐴∩𝐵)𝐶)= 𝑃((0.1)𝐶) = 1-0.1 = 0.9\n",
    "\"\"\""
   ]
  },
  {
   "cell_type": "markdown",
   "metadata": {},
   "source": [
    "## Challenge 2\n",
    "There is a box with 10 white balls, 12 red balls and 8 black balls. Calculate the probability of:\n",
    "* Taking a white ball out.\n",
    "* Taking a white ball out after taking a black ball out.\n",
    "* Taking a red ball out after taking a black and a red ball out.\n",
    "* Taking a red ball out after taking a black and a red ball out with reposition.\n",
    "\n",
    "**Hint**: Reposition means putting back the ball into the box after taking it out."
   ]
  },
  {
   "cell_type": "markdown",
   "metadata": {},
   "source": [
    "Balls per colour \n",
    "\n",
    "W = 10\n",
    "\n",
    "R = 12\n",
    "\n",
    "B = 8\n",
    "\n",
    "Total = 30\n",
    "\n",
    "#### Taking a white ball out.\n",
    "\n",
    "P(1W) = 10/30 = 1/3\n",
    "\n",
    "#### Taking a white ball out after taking a black ball out.\n",
    "\n",
    "P(1B1W) = (8/30)*(10/29) = 8/87\n",
    "\n",
    "#### Taking a red ball out after taking a black and a red ball out\n",
    "\n",
    "P(1B1R1R) = SUM[BRR][RBR] = (8/30 * 12/29 * 11/28) + (12/30 * 8/29 * 11/28)= (1056/24360)+(1056/24360)=2112/24360\n",
    "\n",
    "\n",
    "#### Taking a red ball out after taking a black and a red ball out with reposition.\n",
    "\n",
    "P(1B1R1R) WITH REPOSITION = SUM[BRR][RBR] = (8/30 * 12/30 * 12/30) = 768/27000"
   ]
  },
  {
   "cell_type": "markdown",
   "metadata": {},
   "source": [
    "## Challenge 3\n",
    "\n",
    "You are planning to go on a picnic today but the morning is cloudy. You hate rain so you don't know whether to go out or stay home! To help you make a decision, you gather the following data about rainy days:\n",
    "\n",
    "* 50% of all rainy days start off cloudy!\n",
    "* Cloudy mornings are common. About 40% of days start cloudy. \n",
    "* This month is usually dry so only 3 of 30 days (10%) tend to be rainy. \n",
    "\n",
    "What is the chance of rain during the day?"
   ]
  },
  {
   "cell_type": "markdown",
   "metadata": {},
   "source": [
    "\"\"\"\n",
    "Binomial Distribution.\n",
    "\n",
    "This has ceeb considered as a Binomial distribution give the fact that the header of the excercise mentions that the day is already cloudy.\n",
    "\n",
    "P = 50%\n",
    "Q = 1 - 50% = 50%\n",
    "n = 30\n",
    "x = 3\n",
    "\n",
    "P(X) = (n!/(n-X)!X!) * (p**x q **(n-x))\n",
    "\n",
    "P(X) = (30!/(30-3)!3!) * ((0.5 ** 3)(0.5 ** 27))\n",
    "\n",
    "\n",
    "\"\"\""
   ]
  },
  {
   "cell_type": "markdown",
   "metadata": {},
   "source": [
    "\"\"\" After discussing with colleagues, I have become aware that right way to solve this problem is taking into considetation the additional metric of 40% of days start cloudy. Below the approach to solve this\"\"\""
   ]
  },
  {
   "cell_type": "markdown",
   "metadata": {},
   "source": [
    "\"\"\"\n",
    "P(Rain|Cloudy)=(P(Cloudy|Rain)P(Rain))/P(Cloudy)\n",
    "P(Rain|Cloudy)=(0,5*0,1)/0,4\n",
    "P(Rain|Cloudy)=0,125\n",
    "\"\"\""
   ]
  },
  {
   "cell_type": "markdown",
   "metadata": {},
   "source": [
    "## Challenge 4\n",
    "\n",
    "One thousand people were asked through a telephone survey whether they thought more street lighting is needed at night or not.\n",
    "\n",
    "Out of the 480 men that answered the survey, 324 said yes and 156 said no. On the other hand, out of the 520 women that answered, 351 said yes and 169 said no. \n",
    "\n",
    "We wonder if men and women have a different opinions about the street lighting matter. Is gender relevant or irrelevant to the question?\n",
    "\n",
    "Consider the following events:\n",
    "- The answer is yes, so the person that answered thinks that more street lighting is needed.\n",
    "- The person who answered is a man.\n",
    "\n",
    "We want to know if these events are independent, that is, if the fact of wanting more light depends on whether one is male or female. Are these events independent or not?\n",
    "\n",
    "**Hint**: To clearly compare the answers by gender, it is best to place the data in a table."
   ]
  },
  {
   "cell_type": "code",
   "execution_count": 5,
   "metadata": {},
   "outputs": [],
   "source": [
    "# your code here\n",
    "import pandas as pd"
   ]
  },
  {
   "cell_type": "code",
   "execution_count": 22,
   "metadata": {},
   "outputs": [],
   "source": [
    "survey_responses = [ ['Man', 324, 156] ,\n",
    "             ['Woman', 351, 169] ]"
   ]
  },
  {
   "cell_type": "code",
   "execution_count": 23,
   "metadata": {
    "scrolled": true
   },
   "outputs": [
    {
     "data": {
      "text/html": [
       "<div>\n",
       "<style scoped>\n",
       "    .dataframe tbody tr th:only-of-type {\n",
       "        vertical-align: middle;\n",
       "    }\n",
       "\n",
       "    .dataframe tbody tr th {\n",
       "        vertical-align: top;\n",
       "    }\n",
       "\n",
       "    .dataframe thead th {\n",
       "        text-align: right;\n",
       "    }\n",
       "</style>\n",
       "<table border=\"1\" class=\"dataframe\">\n",
       "  <thead>\n",
       "    <tr style=\"text-align: right;\">\n",
       "      <th></th>\n",
       "      <th>0</th>\n",
       "      <th>1</th>\n",
       "      <th>2</th>\n",
       "    </tr>\n",
       "  </thead>\n",
       "  <tbody>\n",
       "    <tr>\n",
       "      <th>0</th>\n",
       "      <td>Man</td>\n",
       "      <td>324</td>\n",
       "      <td>156</td>\n",
       "    </tr>\n",
       "    <tr>\n",
       "      <th>1</th>\n",
       "      <td>Woman</td>\n",
       "      <td>351</td>\n",
       "      <td>169</td>\n",
       "    </tr>\n",
       "  </tbody>\n",
       "</table>\n",
       "</div>"
      ],
      "text/plain": [
       "       0    1    2\n",
       "0    Man  324  156\n",
       "1  Woman  351  169"
      ]
     },
     "execution_count": 23,
     "metadata": {},
     "output_type": "execute_result"
    }
   ],
   "source": [
    "df_survey = pd.DataFrame(survey_responses) \n",
    "\n",
    "df_survey"
   ]
  },
  {
   "cell_type": "code",
   "execution_count": 24,
   "metadata": {
    "scrolled": true
   },
   "outputs": [
    {
     "data": {
      "text/html": [
       "<div>\n",
       "<style scoped>\n",
       "    .dataframe tbody tr th:only-of-type {\n",
       "        vertical-align: middle;\n",
       "    }\n",
       "\n",
       "    .dataframe tbody tr th {\n",
       "        vertical-align: top;\n",
       "    }\n",
       "\n",
       "    .dataframe thead th {\n",
       "        text-align: right;\n",
       "    }\n",
       "</style>\n",
       "<table border=\"1\" class=\"dataframe\">\n",
       "  <thead>\n",
       "    <tr style=\"text-align: right;\">\n",
       "      <th></th>\n",
       "      <th>Gender</th>\n",
       "      <th>Yes</th>\n",
       "      <th>No</th>\n",
       "    </tr>\n",
       "  </thead>\n",
       "  <tbody>\n",
       "    <tr>\n",
       "      <th>0</th>\n",
       "      <td>Man</td>\n",
       "      <td>324</td>\n",
       "      <td>156</td>\n",
       "    </tr>\n",
       "    <tr>\n",
       "      <th>1</th>\n",
       "      <td>Woman</td>\n",
       "      <td>351</td>\n",
       "      <td>169</td>\n",
       "    </tr>\n",
       "  </tbody>\n",
       "</table>\n",
       "</div>"
      ],
      "text/plain": [
       "  Gender  Yes   No\n",
       "0    Man  324  156\n",
       "1  Woman  351  169"
      ]
     },
     "execution_count": 24,
     "metadata": {},
     "output_type": "execute_result"
    }
   ],
   "source": [
    "# Let´s rename the columns to relevant yes/no values\n",
    "\n",
    "df_survey.columns = ['Gender', 'Yes', 'No']\n",
    "\n",
    "df_survey"
   ]
  },
  {
   "cell_type": "code",
   "execution_count": 25,
   "metadata": {},
   "outputs": [
    {
     "data": {
      "text/html": [
       "<div>\n",
       "<style scoped>\n",
       "    .dataframe tbody tr th:only-of-type {\n",
       "        vertical-align: middle;\n",
       "    }\n",
       "\n",
       "    .dataframe tbody tr th {\n",
       "        vertical-align: top;\n",
       "    }\n",
       "\n",
       "    .dataframe thead th {\n",
       "        text-align: right;\n",
       "    }\n",
       "</style>\n",
       "<table border=\"1\" class=\"dataframe\">\n",
       "  <thead>\n",
       "    <tr style=\"text-align: right;\">\n",
       "      <th></th>\n",
       "      <th>Gender</th>\n",
       "      <th>Yes</th>\n",
       "      <th>No</th>\n",
       "      <th>% of Yes</th>\n",
       "    </tr>\n",
       "  </thead>\n",
       "  <tbody>\n",
       "    <tr>\n",
       "      <th>0</th>\n",
       "      <td>Man</td>\n",
       "      <td>324</td>\n",
       "      <td>156</td>\n",
       "      <td>0.675</td>\n",
       "    </tr>\n",
       "    <tr>\n",
       "      <th>1</th>\n",
       "      <td>Woman</td>\n",
       "      <td>351</td>\n",
       "      <td>169</td>\n",
       "      <td>0.675</td>\n",
       "    </tr>\n",
       "  </tbody>\n",
       "</table>\n",
       "</div>"
      ],
      "text/plain": [
       "  Gender  Yes   No  % of Yes\n",
       "0    Man  324  156     0.675\n",
       "1  Woman  351  169     0.675"
      ]
     },
     "execution_count": 25,
     "metadata": {},
     "output_type": "execute_result"
    }
   ],
   "source": [
    "df_survey['% of Yes'] = df_survey['Yes']/(df_survey['Yes'] + df_survey['No'])\n",
    "\n",
    "df_survey"
   ]
  },
  {
   "cell_type": "code",
   "execution_count": 27,
   "metadata": {},
   "outputs": [
    {
     "data": {
      "text/plain": [
       "' We can see that the % of Yes for both genders is the same. Having said this we can see that Gender is indepent to the predisposition to want more lights in the street.'"
      ]
     },
     "execution_count": 27,
     "metadata": {},
     "output_type": "execute_result"
    }
   ],
   "source": [
    "\"\"\" We can see that the % of Yes for both genders is the same. Having said this we can see that Gender is indepent to the predisposition to want more lights in the street.\"\"\""
   ]
  },
  {
   "cell_type": "code",
   "execution_count": null,
   "metadata": {},
   "outputs": [],
   "source": []
  }
 ],
 "metadata": {
  "kernelspec": {
   "display_name": "Python 3",
   "language": "python",
   "name": "python3"
  },
  "language_info": {
   "codemirror_mode": {
    "name": "ipython",
    "version": 3
   },
   "file_extension": ".py",
   "mimetype": "text/x-python",
   "name": "python",
   "nbconvert_exporter": "python",
   "pygments_lexer": "ipython3",
   "version": "3.8.1"
  }
 },
 "nbformat": 4,
 "nbformat_minor": 2
}
