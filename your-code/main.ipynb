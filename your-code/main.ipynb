{
 "cells": [
  {
   "cell_type": "markdown",
   "metadata": {},
   "source": [
    "# Introduction To Probability\n",
    "## Challenge 1\n",
    "\n",
    "A and B are events of a probability space with $(\\omega, \\sigma, P)$ such that $P(A) = 0.3$, $P(B) = 0.6$ and $P(A \\cap B) = 0.1$\n",
    "\n",
    "Which of the following statements are false?\n",
    "* $P(A \\cup B) = 0.6$\n",
    "* $P(A \\cap B^{C}) = 0.2$\n",
    "* $P(A \\cap (B \\cup B^{C})) = 0.4$\n",
    "* $P(A^{C} \\cap B^{C}) = 0.3$\n",
    "* $P((A \\cap B)^{C}) = 0.9$"
   ]
  },
  {
   "cell_type": "code",
   "execution_count": 1,
   "metadata": {},
   "outputs": [
    {
     "data": {
      "text/plain": [
       "'\\n- 𝑃(𝐴∪𝐵)=0.4\\n\\n'"
      ]
     },
     "execution_count": 1,
     "metadata": {},
     "output_type": "execute_result"
    }
   ],
   "source": [
    "# First statement false\n",
    "#Formula 𝑃(𝐴∪𝐵) = P(A) + P(B) - 𝑃(𝐴∩𝐵)\n",
    "\"\"\"\n",
    "0,3 + 0,6 - 0,1 = 0.8\n",
    "\"\"\"\n",
    "\n",
    "# Second statetment true\n",
    "\"\"\"\n",
    "𝑃(𝐴∩𝐵c) = P(A) - (𝐴∩𝐵) = 0.3 - 0.1 = 0.2\n",
    "\"\"\"\n",
    "\n",
    "# Third statement false\n",
    "\"\"\"\n",
    "𝑃(𝐵∪𝐵c) = 1\n",
    "𝑃(𝐴∩(𝐵∪𝐵c))= P(A ∩ 1) = P(A) = 0.3\n",
    "\n"
   ]
  },
  {
   "cell_type": "markdown",
   "metadata": {},
   "source": [
    "## Challenge 2\n",
    "There is a box with 10 white balls, 12 red balls and 8 black balls. Calculate the probability of:\n",
    "* Taking a white ball out.\n",
    "* Taking a white ball out after taking a black ball out.\n",
    "* Taking a red ball out after taking a black and a red ball out.\n",
    "* Taking a red ball out after taking a black and a red ball out with reposition.\n",
    "\n",
    "**Hint**: Reposition means putting back the ball into the box after taking it out."
   ]
  },
  {
   "cell_type": "code",
   "execution_count": 2,
   "metadata": {},
   "outputs": [
    {
     "data": {
      "text/plain": [
       "'\\nyour solution here\\n'"
      ]
     },
     "execution_count": 2,
     "metadata": {},
     "output_type": "execute_result"
    }
   ],
   "source": [
    "white_ball = 10/30\n",
    "red_ball = 12/30\n",
    "black_ball = 8/30\n",
    "\n",
    "#Taking a white ball out.\n",
    "\"\"\"\n",
    "P (white_ball): 10/30 = 1/3 = 33.33333%\n",
    "\"\"\"\n",
    "\n",
    "#Taking a white ball out after taking a black ball out.\n",
    "\"\"\" \n",
    "P(black_ball): 8/30\n",
    "\n",
    "P (white_ball ∩ Black_ball) = P(white_ball) * P (Black_ball) = 10/30 * 8/30 = 80/900 = 8/90 = 8.88888%\n",
    "\"\"\"\n",
    "\n",
    "#Taking a red ball out after taking a black and a red ball out.\n",
    "\n",
    "\"\"\"\n",
    "P(red_ball): 12/30\n",
    "\n",
    "P(red_ball ∩ black_ball ∩ red_ball) = 12/30 * 8/30 * 12/30 = 1152/ 27000 = 4.26%\n",
    "\"\"\"\n",
    "\n",
    "#Taking a red ball out after taking a black and a red ball out with reposition.\n",
    "\"\"\"\n",
    "P(red_ball ∩ black_ball ∩ red_ball) with reposition :\n",
    "P(red_ball ∩ black_ball ∩ red_ball) = 12/29 * (8/30 * 12/30) * 3  = 1152/ 27000 = 13,24%\n",
    "\n",
    "\"\"\"\n"
   ]
  },
  {
   "cell_type": "markdown",
   "metadata": {},
   "source": [
    "## Challenge 3\n",
    "\n",
    "You are planning to go on a picnic today but the morning is cloudy. You hate rain so you don't know whether to go out or stay home! To help you make a decision, you gather the following data about rainy days:\n",
    "\n",
    "* 50% of all rainy days start off cloudy!\n",
    "* Cloudy mornings are common. About 40% of days start cloudy. \n",
    "* This month is usually dry so only 3 of 30 days (10%) tend to be rainy. \n",
    "\n",
    "What is the chance of rain during the day?"
   ]
  },
  {
   "cell_type": "code",
   "execution_count": 13,
   "metadata": {},
   "outputs": [
    {
     "data": {
      "text/plain": [
       "'\\nP(rain_today) = P(rain|cloud) \\n\\n\\nP(Cloud|Rain) = 50%\\n\\n50% = P(C∩R)/10%\\n\\nP(Cloud ∩ Rain) = 5%\\n\\n\\nP(Cloud) = 40%\\n\\nP(Rain) = 10%\\n\\nP(R|C) = P(R∩C)/P(C)\\nP(R|C) = 5% / 40%\\nP(R|C) = 12,5%\\n\\n'"
      ]
     },
     "execution_count": 13,
     "metadata": {},
     "output_type": "execute_result"
    }
   ],
   "source": [
    "\n",
    "\"\"\"\n",
    "P(rain_today) = P(rain|cloud) \n",
    "\n",
    "\n",
    "P(Cloud|Rain) = 50%\n",
    "\n",
    "50% = P(C∩R)/10%\n",
    "\n",
    "P(Cloud ∩ Rain) = 5%\n",
    "\n",
    "\n",
    "P(Cloud) = 40%\n",
    "\n",
    "P(Rain) = 10%\n",
    "\n",
    "P(R|C) = P(R∩C)/P(C)\n",
    "P(R|C) = 5% / 40%\n",
    "P(R|C) = 12,5%\n",
    "\n",
    "\"\"\"\n"
   ]
  },
  {
   "cell_type": "markdown",
   "metadata": {},
   "source": [
    "## Challenge 4\n",
    "\n",
    "One thousand people were asked through a telephone survey whether they thought more street lighting is needed at night or not.\n",
    "\n",
    "Out of the 480 men that answered the survey, 324 said yes and 156 said no. On the other hand, out of the 520 women that answered, 351 said yes and 169 said no. \n",
    "\n",
    "We wonder if men and women have a different opinions about the street lighting matter. Is gender relevant or irrelevant to the question?\n",
    "\n",
    "Consider the following events:\n",
    "- The answer is yes, so the person that answered thinks that more street lighting is needed.\n",
    "- The person who answered is a man.\n",
    "\n",
    "We want to know if these events are independent, that is, if the fact of wanting more light depends on whether one is male or female. Are these events independent or not?\n",
    "\n",
    "**Hint**: To clearly compare the answers by gender, it is best to place the data in a table."
   ]
  },
  {
   "cell_type": "code",
   "execution_count": 11,
   "metadata": {},
   "outputs": [
    {
     "data": {
      "text/html": [
       "<div>\n",
       "<style scoped>\n",
       "    .dataframe tbody tr th:only-of-type {\n",
       "        vertical-align: middle;\n",
       "    }\n",
       "\n",
       "    .dataframe tbody tr th {\n",
       "        vertical-align: top;\n",
       "    }\n",
       "\n",
       "    .dataframe thead th {\n",
       "        text-align: right;\n",
       "    }\n",
       "</style>\n",
       "<table border=\"1\" class=\"dataframe\">\n",
       "  <thead>\n",
       "    <tr style=\"text-align: right;\">\n",
       "      <th></th>\n",
       "      <th>Survey</th>\n",
       "      <th>Yes</th>\n",
       "      <th>No</th>\n",
       "    </tr>\n",
       "  </thead>\n",
       "  <tbody>\n",
       "    <tr>\n",
       "      <th>0</th>\n",
       "      <td>Males</td>\n",
       "      <td>324</td>\n",
       "      <td>156</td>\n",
       "    </tr>\n",
       "    <tr>\n",
       "      <th>1</th>\n",
       "      <td>Females</td>\n",
       "      <td>351</td>\n",
       "      <td>169</td>\n",
       "    </tr>\n",
       "  </tbody>\n",
       "</table>\n",
       "</div>"
      ],
      "text/plain": [
       "    Survey  Yes   No\n",
       "0    Males  324  156\n",
       "1  Females  351  169"
      ]
     },
     "execution_count": 11,
     "metadata": {},
     "output_type": "execute_result"
    }
   ],
   "source": [
    "# your code here\n",
    "import pandas as pd\n",
    "Survey_Series = {'Survey': ['Males', 'Females'], 'Yes':[324,351], 'No':[156,169]}\n",
    "\n",
    "pd_survey = pd.DataFrame(Survey_Series, columns = ['Survey', 'Yes', 'No'])\n",
    "pd_survey"
   ]
  },
  {
   "cell_type": "code",
   "execution_count": 12,
   "metadata": {},
   "outputs": [
    {
     "name": "stdout",
     "output_type": "stream",
     "text": [
      "675\n"
     ]
    },
    {
     "data": {
      "text/html": [
       "<div>\n",
       "<style scoped>\n",
       "    .dataframe tbody tr th:only-of-type {\n",
       "        vertical-align: middle;\n",
       "    }\n",
       "\n",
       "    .dataframe tbody tr th {\n",
       "        vertical-align: top;\n",
       "    }\n",
       "\n",
       "    .dataframe thead th {\n",
       "        text-align: right;\n",
       "    }\n",
       "</style>\n",
       "<table border=\"1\" class=\"dataframe\">\n",
       "  <thead>\n",
       "    <tr style=\"text-align: right;\">\n",
       "      <th></th>\n",
       "      <th>Survey</th>\n",
       "      <th>Yes</th>\n",
       "      <th>No</th>\n",
       "      <th>Sum</th>\n",
       "    </tr>\n",
       "  </thead>\n",
       "  <tbody>\n",
       "    <tr>\n",
       "      <th>0</th>\n",
       "      <td>Males</td>\n",
       "      <td>324</td>\n",
       "      <td>156</td>\n",
       "      <td>480</td>\n",
       "    </tr>\n",
       "    <tr>\n",
       "      <th>1</th>\n",
       "      <td>Females</td>\n",
       "      <td>351</td>\n",
       "      <td>169</td>\n",
       "      <td>520</td>\n",
       "    </tr>\n",
       "  </tbody>\n",
       "</table>\n",
       "</div>"
      ],
      "text/plain": [
       "    Survey  Yes   No  Sum\n",
       "0    Males  324  156  480\n",
       "1  Females  351  169  520"
      ]
     },
     "execution_count": 12,
     "metadata": {},
     "output_type": "execute_result"
    }
   ],
   "source": [
    "p_yes = sum(pd_survey.Yes)\n",
    "print(p_yes)\n",
    "\n",
    "pd_survey['Sum'] = pd_survey.sum(axis=1)\n",
    "\n",
    "pd_survey"
   ]
  },
  {
   "cell_type": "code",
   "execution_count": 6,
   "metadata": {},
   "outputs": [
    {
     "data": {
      "text/plain": [
       "'\\nP(Y) = probability of Yes = sum of yes answers from both Surveys = 675/1000\\n\\nP(M) = probability of Men = sum of all men answers from both Surveys = 480/1000\\n\\n2 events are independent if P(A)*P(B) = P(A ∩ B)\\n\\ndoes P(Y) * P(M) = P(Y ∩ M)\\n\\nP(Y) * P(M) = 675 / 1000 * 480 / 1000 \\n            = 324 /100\\n            =  P(Y ∩ M)\\nSo yes indeed, both events are independent\\n\\n'"
      ]
     },
     "execution_count": 6,
     "metadata": {},
     "output_type": "execute_result"
    }
   ],
   "source": [
    "\"\"\"\n",
    "The probability of a man answering \"yes\" (.324) is equal to the\n",
    "probability of answering yes times the probability of the survey being answered by a man. \n",
    "\n",
    "So therefore as the rule P(Y) * P(M) = P(Y ∩ M) is tested true the variables are independent.\n",
    "\"\"\""
   ]
  },
  {
   "cell_type": "code",
   "execution_count": 8,
   "metadata": {},
   "outputs": [
    {
     "data": {
      "text/plain": [
       "0.324"
      ]
     },
     "execution_count": 8,
     "metadata": {},
     "output_type": "execute_result"
    }
   ],
   "source": [
    "# P(Y) * P(M)\n",
    "p_m = 480/1000\n",
    "p_yes = 675/1000\n",
    "p_fe = 520/1000\n",
    "\n",
    "pyes_times_pm = p_m * p_yes\n",
    "pyes_times_pm"
   ]
  },
  {
   "cell_type": "code",
   "execution_count": null,
   "metadata": {},
   "outputs": [],
   "source": []
  }
 ],
 "metadata": {
  "kernelspec": {
   "display_name": "Python 3",
   "language": "python",
   "name": "python3"
  },
  "language_info": {
   "codemirror_mode": {
    "name": "ipython",
    "version": 3
   },
   "file_extension": ".py",
   "mimetype": "text/x-python",
   "name": "python",
   "nbconvert_exporter": "python",
   "pygments_lexer": "ipython3",
   "version": "3.7.7"
  }
 },
 "nbformat": 4,
 "nbformat_minor": 2
}
