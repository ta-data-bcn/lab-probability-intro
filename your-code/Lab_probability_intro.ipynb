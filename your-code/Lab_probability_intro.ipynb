{
 "cells": [
  {
   "cell_type": "markdown",
   "metadata": {},
   "source": [
    "# Introduction To Probability\n",
    "## Challenge 1\n",
    "\n",
    "A and B are events of a probability space with $(\\omega, \\sigma, P)$ such that $P(A) = 0.3$, $P(B) = 0.6$ and $P(A \\cap B) = 0.1$\n",
    "\n",
    "Which of the following statements are false?\n",
    "* $P(A \\cup B) = 0.6$\n",
    "* $P(A \\cap B^{C}) = 0.2$\n",
    "* $P(A \\cap (B \\cup B^{C})) = 0.4$\n",
    "* $P(A^{C} \\cap B^{C}) = 0.3$\n",
    "* $P((A \\cap B)^{C}) = 0.9$"
   ]
  },
  {
   "cell_type": "code",
   "execution_count": null,
   "metadata": {},
   "outputs": [],
   "source": [
    "#Formula 𝑃(𝐴∪𝐵) = P(A) + P(B) - 𝑃(𝐴∩𝐵)\n",
    "0.8\n",
    "# P(B/) = 1 - P(B)\n",
    "\n",
    "#P(A sachant B) / P(A inter B)/ P(B)\n",
    "\n",
    "#Formula Total Probability\n",
    "# 𝑃(𝐴∩𝐵) + 𝑃(𝐴∩𝐵/) = P(A)\n",
    "\n",
    "\n",
    "#Formula 𝑃(𝐴∪𝐵) = P(A) + P(B) - 𝑃(𝐴∩𝐵)\n",
    "\"\"\"\n",
    "𝑃(𝐴∪𝐵) = P(A) + P(B) - 𝑃(𝐴∩𝐵) = 𝑃(𝐴)=0.3 + 𝑃(𝐵)=0.6 - 𝑃(𝐴∩𝐵)=0.1 = 0.8\n",
    "\n",
    "So 𝑃(𝐴∪𝐵)=0.6 is wrong because it should be 0.8\n",
    "\"\"\"\n",
    "\n",
    "# 𝑃(𝐴∩𝐵c) = P(A) - (𝐴∩𝐵) = 0.3 - 0.1 = 0.2\n",
    "# 𝑃(𝐴∩𝐵c) = 0.2 = so it is true\n",
    "\n",
    "\"\"\"\n",
    "𝑃(𝐵∪𝐵c) = the entire space\n",
    "𝑃(𝐴∩(𝐵∪𝐵c))= P(A ∩ the entire space) = P(A) = 0.3 \n",
    "So 𝑃(𝐴∩(𝐵∪𝐵𝐶))=0.4 is wrong\n",
    "\"\"\"\n",
    "\n",
    "# (Ac ∩ Bc) = (Ac ∩ Bc)C = A U B => \n",
    "# double C of A = A \n",
    "# double C of B = B\n",
    "# double C of A & B = A U B\n",
    "\"\"\"\n",
    "So 𝑃(𝐴c∩𝐵c) = 𝑃(𝐴∪𝐵) = 0.6\n",
    "So 𝑃(𝐴c∩𝐵c) = 0.3 is wrong\n",
    "\"\"\"\n",
    "\n",
    "\"\"\"\n",
    "=> OMEGA - A U B \n",
    "=> 𝑃(𝐴𝐶∩𝐵𝐶) = 1 - P(A U B) = 1 - 0.1 = 0.9\n",
    "\n",
    "𝑃((𝐴∩𝐵)c)=0.9 is true\n",
    "\n",
    "\n",
    "\"\"\""
   ]
  },
  {
   "cell_type": "markdown",
   "metadata": {},
   "source": [
    "## Challenge 2\n",
    "There is a box with 10 white balls, 12 red balls and 8 black balls. Calculate the probability of:\n",
    "* Taking a white ball out.\n",
    "* Taking a white ball out after taking a black ball out.\n",
    "* Taking a red ball out after taking a black and a red ball out.\n",
    "* Taking a red ball out after taking a black and a red ball out with reposition.\n",
    "\n",
    "**Hint**: Reposition means putting back the ball into the box after taking it out."
   ]
  },
  {
   "cell_type": "code",
   "execution_count": null,
   "metadata": {},
   "outputs": [],
   "source": [
    "#Question 1 - Taking a white ball out.\n",
    "\"\"\"\n",
    "P (white ball): 10/30 = 1/3\n",
    "\"\"\"\n",
    "\n",
    "#Question 2 - Taking a white ball out after taking a black ball out.\n",
    "\"\"\" \n",
    "P(black ball): 8/30\n",
    "\n",
    "P (white ball ∩ Black ball) = P(white ball) * P (Black ball) = 10/30 * 8/30 = 80/900 = 8/90\n",
    "\"\"\"\n",
    "\n",
    "#Question 3 - Taking a red ball out after taking a black and a red ball out.\n",
    "\n",
    "\"\"\"\n",
    "P(red ball): 12/30\n",
    "\n",
    "P(red ball ∩ Black ball ∩ red ball) = 12/30 * 8/30 * 12/30 = 1152/ 27000\n",
    "\"\"\"\n",
    "\n",
    "#Question 4 - Taking a red ball out after taking a black and a red ball out with reposition.\n",
    "\"\"\"\n",
    "P(red ball ∩ Black ball ∩ red ball) with reposition :\n",
    "12/30 * 8/30 * 12/30\n",
    "\n",
    "\"\"\""
   ]
  },
  {
   "cell_type": "markdown",
   "metadata": {},
   "source": [
    "## Challenge 3\n",
    "\n",
    "You are planning to go on a picnic today but the morning is cloudy. You hate rain so you don't know whether to go out or stay home! To help you make a decision, you gather the following data about rainy days:\n",
    "\n",
    "* 50% of all rainy days start off cloudy!\n",
    "* Cloudy mornings are common. About 40% of days start cloudy. \n",
    "* This month is usually dry so only 3 of 30 days (10%) tend to be rainy. \n",
    "\n",
    "What is the chance of rain during the day?"
   ]
  },
  {
   "cell_type": "code",
   "execution_count": null,
   "metadata": {},
   "outputs": [],
   "source": [
    "\"\"\"\n",
    "P(rain_today) = P(rain|cloud) \n",
    "\n",
    "\n",
    "P(Cloud|Rain) = 1/2 = P(C∩R)/P(R) \n",
    "\n",
    "1/2 = P(C∩R)/1/10\n",
    "\n",
    "P(Cloud ∩ Rain) = 1/20\n",
    "\n",
    "\n",
    "P(Cloud) = 40/100\n",
    "\n",
    "P(Rain) = 1/10\n",
    "\n",
    "P(R|C) = P(R∩C)/P(C)\n",
    "P(R|C) = 1/20 / 4/10\n",
    "P(R|C) = 1/8\n",
    "\n",
    "\"\"\""
   ]
  },
  {
   "cell_type": "markdown",
   "metadata": {},
   "source": [
    "## Challenge 4\n",
    "\n",
    "One thousand people were asked through a telephone survey whether they thought more street lighting is needed at night or not.\n",
    "\n",
    "Out of the 480 men that answered the survey, 324 said yes and 156 said no. On the other hand, out of the 520 women that answered, 351 said yes and 169 said no. \n",
    "\n",
    "We wonder if men and women have a different opinions about the street lighting matter. Is gender relevant or irrelevant to the question?\n",
    "\n",
    "Consider the following events:\n",
    "- The answer is yes, so the person that answered thinks that more street lighting is needed.\n",
    "- The person who answered is a man.\n",
    "\n",
    "We want to know if these events are independent, that is, if the fact of wanting more light depends on whether one is male or female. Are these events independent or not?\n",
    "\n",
    "**Hint**: To clearly compare the answers by gender, it is best to place the data in a table."
   ]
  },
  {
   "cell_type": "code",
   "execution_count": 15,
   "metadata": {},
   "outputs": [],
   "source": [
    "# pd_survey = pd.DataFrame(columns = ['Yes', 'No'], 'S1' == (324,156), 'S2'== (351,169))\n",
    "\n",
    "Survey_Series = {'Survey': ['Survey_1', 'Survey_2'], 'Yes':[324,351], 'No':[156,169]}\n",
    "\n",
    "pd_survey = pd.DataFrame(Survey_Series, columns = ['Survey', 'Yes', 'No'])"
   ]
  },
  {
   "cell_type": "code",
   "execution_count": 16,
   "metadata": {},
   "outputs": [
    {
     "data": {
      "text/html": [
       "<div>\n",
       "<style scoped>\n",
       "    .dataframe tbody tr th:only-of-type {\n",
       "        vertical-align: middle;\n",
       "    }\n",
       "\n",
       "    .dataframe tbody tr th {\n",
       "        vertical-align: top;\n",
       "    }\n",
       "\n",
       "    .dataframe thead th {\n",
       "        text-align: right;\n",
       "    }\n",
       "</style>\n",
       "<table border=\"1\" class=\"dataframe\">\n",
       "  <thead>\n",
       "    <tr style=\"text-align: right;\">\n",
       "      <th></th>\n",
       "      <th>Yes</th>\n",
       "      <th>No</th>\n",
       "    </tr>\n",
       "    <tr>\n",
       "      <th>Survey</th>\n",
       "      <th></th>\n",
       "      <th></th>\n",
       "    </tr>\n",
       "  </thead>\n",
       "  <tbody>\n",
       "    <tr>\n",
       "      <th>Survey_1</th>\n",
       "      <td>324</td>\n",
       "      <td>156</td>\n",
       "    </tr>\n",
       "    <tr>\n",
       "      <th>Survey_2</th>\n",
       "      <td>351</td>\n",
       "      <td>169</td>\n",
       "    </tr>\n",
       "  </tbody>\n",
       "</table>\n",
       "</div>"
      ],
      "text/plain": [
       "          Yes   No\n",
       "Survey            \n",
       "Survey_1  324  156\n",
       "Survey_2  351  169"
      ]
     },
     "execution_count": 16,
     "metadata": {},
     "output_type": "execute_result"
    }
   ],
   "source": [
    "pd_survey.set_index('Survey')"
   ]
  },
  {
   "cell_type": "code",
   "execution_count": 1,
   "metadata": {},
   "outputs": [],
   "source": [
    "import pandas as pd"
   ]
  },
  {
   "cell_type": "code",
   "execution_count": null,
   "metadata": {},
   "outputs": [],
   "source": [
    "\"\"\"\n",
    "P(Y) = probability of Yes = sum of yes answers from both Surveys = 675/1000\n",
    "\n",
    "P(M) = probability of Men = sum of all men answers from both Surveys = 480/1000\n",
    "\n",
    "2 events are independent if P(A)*P(B) = P(A ∩ B)\n",
    "\n",
    "does P(Y) * P(M) = P(Y ∩ M)\n",
    "\n",
    "P(Y) * P(M) = 675 / 1000 * 480 / 1000 \n",
    "            = 324 /100\n",
    "            =  P(Y ∩ M)\n",
    "So yes indeed, both events are independent\n",
    "\n",
    "\"\"\""
   ]
  },
  {
   "cell_type": "code",
   "execution_count": null,
   "metadata": {},
   "outputs": [],
   "source": []
  }
 ],
 "metadata": {
  "kernelspec": {
   "display_name": "Python 3",
   "language": "python",
   "name": "python3"
  },
  "language_info": {
   "codemirror_mode": {
    "name": "ipython",
    "version": 3
   },
   "file_extension": ".py",
   "mimetype": "text/x-python",
   "name": "python",
   "nbconvert_exporter": "python",
   "pygments_lexer": "ipython3",
   "version": "3.8.0"
  }
 },
 "nbformat": 4,
 "nbformat_minor": 2
}
